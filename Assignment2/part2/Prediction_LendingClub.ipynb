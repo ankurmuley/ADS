{
 "cells": [
  {
   "cell_type": "code",
   "execution_count": 137,
   "metadata": {
    "collapsed": false
   },
   "outputs": [],
   "source": [
    "import matplotlib.pyplot as plt\n",
    "import numpy as np\n",
    "import os\n",
    "import pandas as pd\n",
    "import pylab as pl\n",
    "#import seaborn as sns\n",
    "from sklearn import linear_model\n",
    "from sklearn import model_selection\n",
    "from sklearn import preprocessing\n",
    "import math\n",
    "from sklearn.metrics import mean_squared_error\n",
    "\n",
    "\n",
    "import operator\n",
    "\n",
    "from sklearn.model_selection import cross_val_score\n",
    "\n",
    "\n",
    "from sklearn.ensemble import RandomForestRegressor\n",
    "#import statsmodels.api as sm\n",
    "\n",
    "#%matplotlib inline\n",
    "#sns.set(style='white', font_scale=0.9)\n",
    "\n",
    "data_directory = os.path.join('.', 'data') \n",
    "\n",
    "cleaned_accepted_data_path = os.path.join(data_directory, 'Cleaned_AcceptedLoanDataV.csv')"
   ]
  },
  {
   "cell_type": "code",
   "execution_count": 138,
   "metadata": {
    "collapsed": false
   },
   "outputs": [
    {
     "name": "stdout",
     "output_type": "stream",
     "text": [
      "         Unnamed: 0      loan_amnt       int_rate     emp_length  \\\n",
      "count  1.318930e+05  131893.000000  131893.000000  131893.000000   \n",
      "mean   6.616608e+05   14770.019827      13.177013       5.779071   \n",
      "std    3.816988e+05    8637.705924       4.582195       3.724609   \n",
      "min    9.000000e+00     600.000000       5.320000       0.000000   \n",
      "25%    3.306750e+05    8000.000000       9.750000       2.000000   \n",
      "50%    6.619550e+05   13000.000000      12.790000       6.000000   \n",
      "75%    9.926680e+05   20000.000000      15.800000      10.000000   \n",
      "max    1.321843e+06   40000.000000      30.990000      10.000000   \n",
      "\n",
      "         annual_inc            dti    delinq_2yrs  earliest_cr_line  \\\n",
      "count  1.318930e+05  131893.000000  131893.000000     131893.000000   \n",
      "mean   7.707095e+04      18.242888       0.330167         18.636759   \n",
      "std    7.085021e+04       8.296326       0.890223          7.559317   \n",
      "min    4.800000e+03       0.000000       0.000000          0.000000   \n",
      "25%    4.680000e+04      12.040000       0.000000         13.000000   \n",
      "50%    6.500000e+04      17.760000       0.000000         17.000000   \n",
      "75%    9.200000e+04      24.110000       0.000000         23.000000   \n",
      "max    8.900060e+06      46.520000      24.000000         66.000000   \n",
      "\n",
      "       inq_last_6mths  mths_since_last_delinq       ...        \\\n",
      "count   131893.000000           131893.000000       ...         \n",
      "mean         0.658574               33.849096       ...         \n",
      "std          0.972671               15.463197       ...         \n",
      "min          0.000000                0.000000       ...         \n",
      "25%          0.000000               30.000000       ...         \n",
      "50%          0.000000               33.849096       ...         \n",
      "75%          1.000000               33.849096       ...         \n",
      "max         32.000000              168.000000       ...         \n",
      "\n",
      "       acc_open_past_24mths    avg_cur_bal  bc_open_to_buy  \\\n",
      "count         131893.000000  131893.000000   131893.000000   \n",
      "mean               4.554937   13351.202361     9545.399922   \n",
      "std                3.071962   15353.981118    14175.861459   \n",
      "min                0.000000       0.000000        0.000000   \n",
      "25%                2.000000    3287.000000     1469.000000   \n",
      "50%                4.000000    8331.000000     4835.000000   \n",
      "75%                6.000000   17691.000000    10936.000000   \n",
      "max               42.000000  307805.000000   497445.000000   \n",
      "\n",
      "       chargeoff_within_12_mths    delinq_amnt       mort_acc  pct_tl_nvr_dlq  \\\n",
      "count             131893.000000  131893.000000  131893.000000   131893.000000   \n",
      "mean                   0.008895      13.384493       1.694901       94.069205   \n",
      "std                    0.111325     709.370075       1.974930        8.523023   \n",
      "min                    0.000000       0.000000       0.000000       15.400000   \n",
      "25%                    0.000000       0.000000       0.000000       91.700000   \n",
      "50%                    0.000000       0.000000       1.000000       97.000000   \n",
      "75%                    0.000000       0.000000       3.000000      100.000000   \n",
      "max                    7.000000   97619.000000      35.000000      100.000000   \n",
      "\n",
      "          timestamp      mean_fico  last_mean_fico  \n",
      "count  1.318930e+05  131893.000000   131893.000000  \n",
      "mean   1.491434e+09     697.036977      683.413581  \n",
      "std    1.423658e+02      30.746097       77.913262  \n",
      "min    1.491434e+09     622.000000        0.000000  \n",
      "25%    1.491434e+09     672.000000      657.000000  \n",
      "50%    1.491434e+09     692.000000      692.000000  \n",
      "75%    1.491434e+09     712.000000      727.000000  \n",
      "max    1.491434e+09     847.500000      847.500000  \n",
      "\n",
      "[8 rows x 25 columns]\n"
     ]
    }
   ],
   "source": [
    "accepted_df = pd.read_csv(cleaned_accepted_data_path, low_memory=False, encoding='UTF-8')\n",
    "#print(accepted_df.info())\n",
    "print(accepted_df.describe())"
   ]
  },
  {
   "cell_type": "code",
   "execution_count": 139,
   "metadata": {
    "collapsed": false
   },
   "outputs": [
    {
     "name": "stdout",
     "output_type": "stream",
     "text": [
      "<class 'pandas.core.frame.DataFrame'>\n",
      "RangeIndex: 131893 entries, 0 to 131892\n",
      "Data columns (total 34 columns):\n",
      "Unnamed: 0                    131893 non-null int64\n",
      "loan_amnt                     131893 non-null float64\n",
      "term                          131893 non-null object\n",
      "int_rate                      131893 non-null float64\n",
      "emp_length                    131893 non-null float64\n",
      "home_ownership                131893 non-null object\n",
      "annual_inc                    131893 non-null float64\n",
      "verification_status           131893 non-null object\n",
      "issue_d                       131893 non-null object\n",
      "purpose                       131893 non-null object\n",
      "dti                           131893 non-null float64\n",
      "delinq_2yrs                   131893 non-null float64\n",
      "earliest_cr_line              131893 non-null int64\n",
      "inq_last_6mths                131893 non-null float64\n",
      "mths_since_last_delinq        131893 non-null float64\n",
      "pub_rec                       131893 non-null float64\n",
      "revol_bal                     131893 non-null float64\n",
      "revol_util                    131893 non-null float64\n",
      "total_acc                     131893 non-null float64\n",
      "collections_12_mths_ex_med    131893 non-null float64\n",
      "application_type              131893 non-null object\n",
      "verification_status_joint     131893 non-null object\n",
      "acc_open_past_24mths          131893 non-null float64\n",
      "avg_cur_bal                   131893 non-null float64\n",
      "bc_open_to_buy                131893 non-null float64\n",
      "chargeoff_within_12_mths      131893 non-null float64\n",
      "delinq_amnt                   131893 non-null float64\n",
      "mort_acc                      131893 non-null float64\n",
      "pct_tl_nvr_dlq                131893 non-null float64\n",
      "timestamp                     131893 non-null int64\n",
      "fico_range                    131893 non-null object\n",
      "mean_fico                     131893 non-null float64\n",
      "last_fico_range               131893 non-null object\n",
      "last_mean_fico                131893 non-null float64\n",
      "dtypes: float64(22), int64(3), object(9)\n",
      "memory usage: 34.2+ MB\n",
      "None\n"
     ]
    }
   ],
   "source": [
    "accepted_df = pd.read_csv(cleaned_accepted_data_path, low_memory=False, encoding='UTF-8')\n",
    "print(accepted_df.info())"
   ]
  },
  {
   "cell_type": "code",
   "execution_count": 140,
   "metadata": {
    "collapsed": false
   },
   "outputs": [],
   "source": [
    "cols_to_keep = ['loan_amnt','emp_length','dti','mean_fico','annual_inc']\n"
   ]
  },
  {
   "cell_type": "code",
   "execution_count": 141,
   "metadata": {
    "collapsed": false
   },
   "outputs": [
    {
     "name": "stderr",
     "output_type": "stream",
     "text": [
      "C:\\Users\\mahesh\\Miniconda3\\lib\\site-packages\\ipykernel\\__main__.py:3: UserWarning: Boolean Series key will be reindexed to match DataFrame index.\n",
      "  app.launch_new_instance()\n"
     ]
    }
   ],
   "source": [
    "c1 = accepted_df[(accepted_df['loan_amnt'] >= 1000) & (accepted_df['loan_amnt'] <= 35000)]\n",
    "c2=c1[(c1['annual_inc'] >= 10000) & (c1['annual_inc']<=45000)]\n",
    "c3=c2[(c2['emp_length'] >= 0) & (c1['emp_length'] <= 3)]\n",
    "#c4=c3[(c3['term']>='36 months') ] \n",
    "\n",
    "\n",
    "df1 = c3[['loan_amnt','emp_length','dti','mean_fico','annual_inc','int_rate']]\n"
   ]
  },
  {
   "cell_type": "code",
   "execution_count": 142,
   "metadata": {
    "collapsed": false
   },
   "outputs": [
    {
     "data": {
      "text/html": [
       "<div>\n",
       "<table border=\"1\" class=\"dataframe\">\n",
       "  <thead>\n",
       "    <tr style=\"text-align: right;\">\n",
       "      <th></th>\n",
       "      <th>loan_amnt</th>\n",
       "      <th>emp_length</th>\n",
       "      <th>dti</th>\n",
       "      <th>mean_fico</th>\n",
       "      <th>annual_inc</th>\n",
       "      <th>int_rate</th>\n",
       "    </tr>\n",
       "  </thead>\n",
       "  <tbody>\n",
       "    <tr>\n",
       "      <th>5</th>\n",
       "      <td>2800.0</td>\n",
       "      <td>1.0</td>\n",
       "      <td>16.22</td>\n",
       "      <td>722.0</td>\n",
       "      <td>43000.0</td>\n",
       "      <td>9.75</td>\n",
       "    </tr>\n",
       "    <tr>\n",
       "      <th>6</th>\n",
       "      <td>2950.0</td>\n",
       "      <td>0.0</td>\n",
       "      <td>12.57</td>\n",
       "      <td>667.0</td>\n",
       "      <td>21000.0</td>\n",
       "      <td>18.55</td>\n",
       "    </tr>\n",
       "    <tr>\n",
       "      <th>8</th>\n",
       "      <td>5450.0</td>\n",
       "      <td>2.0</td>\n",
       "      <td>13.38</td>\n",
       "      <td>672.0</td>\n",
       "      <td>40000.0</td>\n",
       "      <td>22.45</td>\n",
       "    </tr>\n",
       "    <tr>\n",
       "      <th>16</th>\n",
       "      <td>5000.0</td>\n",
       "      <td>3.0</td>\n",
       "      <td>31.60</td>\n",
       "      <td>667.0</td>\n",
       "      <td>24000.0</td>\n",
       "      <td>13.99</td>\n",
       "    </tr>\n",
       "    <tr>\n",
       "      <th>20</th>\n",
       "      <td>4000.0</td>\n",
       "      <td>3.0</td>\n",
       "      <td>12.18</td>\n",
       "      <td>747.0</td>\n",
       "      <td>42000.0</td>\n",
       "      <td>11.47</td>\n",
       "    </tr>\n",
       "  </tbody>\n",
       "</table>\n",
       "</div>"
      ],
      "text/plain": [
       "    loan_amnt  emp_length    dti  mean_fico  annual_inc  int_rate\n",
       "5      2800.0         1.0  16.22      722.0     43000.0      9.75\n",
       "6      2950.0         0.0  12.57      667.0     21000.0     18.55\n",
       "8      5450.0         2.0  13.38      672.0     40000.0     22.45\n",
       "16     5000.0         3.0  31.60      667.0     24000.0     13.99\n",
       "20     4000.0         3.0  12.18      747.0     42000.0     11.47"
      ]
     },
     "execution_count": 142,
     "metadata": {},
     "output_type": "execute_result"
    }
   ],
   "source": [
    "df1.head()"
   ]
  },
  {
   "cell_type": "code",
   "execution_count": 144,
   "metadata": {
    "collapsed": false
   },
   "outputs": [
    {
     "data": {
      "text/html": [
       "<div>\n",
       "<table border=\"1\" class=\"dataframe\">\n",
       "  <thead>\n",
       "    <tr style=\"text-align: right;\">\n",
       "      <th></th>\n",
       "      <th>Unnamed: 0</th>\n",
       "      <th>loan_amnt</th>\n",
       "      <th>term</th>\n",
       "      <th>int_rate</th>\n",
       "      <th>emp_length</th>\n",
       "      <th>home_ownership</th>\n",
       "      <th>annual_inc</th>\n",
       "      <th>verification_status</th>\n",
       "      <th>issue_d</th>\n",
       "      <th>purpose</th>\n",
       "      <th>...</th>\n",
       "      <th>bc_open_to_buy</th>\n",
       "      <th>chargeoff_within_12_mths</th>\n",
       "      <th>delinq_amnt</th>\n",
       "      <th>mort_acc</th>\n",
       "      <th>pct_tl_nvr_dlq</th>\n",
       "      <th>timestamp</th>\n",
       "      <th>fico_range</th>\n",
       "      <th>mean_fico</th>\n",
       "      <th>last_fico_range</th>\n",
       "      <th>last_mean_fico</th>\n",
       "    </tr>\n",
       "  </thead>\n",
       "  <tbody>\n",
       "    <tr>\n",
       "      <th>5</th>\n",
       "      <td>1044671</td>\n",
       "      <td>2800.0</td>\n",
       "      <td>36 months</td>\n",
       "      <td>9.75</td>\n",
       "      <td>1.0</td>\n",
       "      <td>RENT</td>\n",
       "      <td>43000.0</td>\n",
       "      <td>Not Verified</td>\n",
       "      <td>Jun-2016</td>\n",
       "      <td>home_improvement</td>\n",
       "      <td>...</td>\n",
       "      <td>3281.0</td>\n",
       "      <td>0.0</td>\n",
       "      <td>0.0</td>\n",
       "      <td>0.0</td>\n",
       "      <td>100.0</td>\n",
       "      <td>1491434284</td>\n",
       "      <td>720.0-724.0</td>\n",
       "      <td>722.0</td>\n",
       "      <td>685.0-689.0</td>\n",
       "      <td>687.0</td>\n",
       "    </tr>\n",
       "    <tr>\n",
       "      <th>6</th>\n",
       "      <td>571760</td>\n",
       "      <td>2950.0</td>\n",
       "      <td>36 months</td>\n",
       "      <td>18.55</td>\n",
       "      <td>0.0</td>\n",
       "      <td>OWN</td>\n",
       "      <td>21000.0</td>\n",
       "      <td>Verified</td>\n",
       "      <td>Oct-2015</td>\n",
       "      <td>credit_card</td>\n",
       "      <td>...</td>\n",
       "      <td>8352.0</td>\n",
       "      <td>0.0</td>\n",
       "      <td>0.0</td>\n",
       "      <td>0.0</td>\n",
       "      <td>100.0</td>\n",
       "      <td>1491434180</td>\n",
       "      <td>665.0-669.0</td>\n",
       "      <td>667.0</td>\n",
       "      <td>670.0-674.0</td>\n",
       "      <td>672.0</td>\n",
       "    </tr>\n",
       "    <tr>\n",
       "      <th>8</th>\n",
       "      <td>431095</td>\n",
       "      <td>5450.0</td>\n",
       "      <td>36 months</td>\n",
       "      <td>22.45</td>\n",
       "      <td>2.0</td>\n",
       "      <td>RENT</td>\n",
       "      <td>40000.0</td>\n",
       "      <td>Source Verified</td>\n",
       "      <td>Mar-2014</td>\n",
       "      <td>moving</td>\n",
       "      <td>...</td>\n",
       "      <td>4513.0</td>\n",
       "      <td>0.0</td>\n",
       "      <td>0.0</td>\n",
       "      <td>0.0</td>\n",
       "      <td>100.0</td>\n",
       "      <td>1491434044</td>\n",
       "      <td>670.0-674.0</td>\n",
       "      <td>672.0</td>\n",
       "      <td>625.0-629.0</td>\n",
       "      <td>627.0</td>\n",
       "    </tr>\n",
       "    <tr>\n",
       "      <th>16</th>\n",
       "      <td>839150</td>\n",
       "      <td>5000.0</td>\n",
       "      <td>36 months</td>\n",
       "      <td>13.99</td>\n",
       "      <td>3.0</td>\n",
       "      <td>OWN</td>\n",
       "      <td>24000.0</td>\n",
       "      <td>Source Verified</td>\n",
       "      <td>Feb-2015</td>\n",
       "      <td>debt_consolidation</td>\n",
       "      <td>...</td>\n",
       "      <td>1731.0</td>\n",
       "      <td>0.0</td>\n",
       "      <td>0.0</td>\n",
       "      <td>1.0</td>\n",
       "      <td>75.0</td>\n",
       "      <td>1491434180</td>\n",
       "      <td>665.0-669.0</td>\n",
       "      <td>667.0</td>\n",
       "      <td>550.0-554.0</td>\n",
       "      <td>552.0</td>\n",
       "    </tr>\n",
       "    <tr>\n",
       "      <th>20</th>\n",
       "      <td>892761</td>\n",
       "      <td>4000.0</td>\n",
       "      <td>36 months</td>\n",
       "      <td>11.47</td>\n",
       "      <td>3.0</td>\n",
       "      <td>RENT</td>\n",
       "      <td>42000.0</td>\n",
       "      <td>Source Verified</td>\n",
       "      <td>Mar-2016</td>\n",
       "      <td>major_purchase</td>\n",
       "      <td>...</td>\n",
       "      <td>3759.0</td>\n",
       "      <td>0.0</td>\n",
       "      <td>0.0</td>\n",
       "      <td>0.0</td>\n",
       "      <td>100.0</td>\n",
       "      <td>1491434252</td>\n",
       "      <td>745.0-749.0</td>\n",
       "      <td>747.0</td>\n",
       "      <td>700.0-704.0</td>\n",
       "      <td>702.0</td>\n",
       "    </tr>\n",
       "  </tbody>\n",
       "</table>\n",
       "<p>5 rows × 34 columns</p>\n",
       "</div>"
      ],
      "text/plain": [
       "    Unnamed: 0  loan_amnt        term  int_rate  emp_length home_ownership  \\\n",
       "5      1044671     2800.0   36 months      9.75         1.0           RENT   \n",
       "6       571760     2950.0   36 months     18.55         0.0            OWN   \n",
       "8       431095     5450.0   36 months     22.45         2.0           RENT   \n",
       "16      839150     5000.0   36 months     13.99         3.0            OWN   \n",
       "20      892761     4000.0   36 months     11.47         3.0           RENT   \n",
       "\n",
       "    annual_inc verification_status   issue_d             purpose  \\\n",
       "5      43000.0        Not Verified  Jun-2016    home_improvement   \n",
       "6      21000.0            Verified  Oct-2015         credit_card   \n",
       "8      40000.0     Source Verified  Mar-2014              moving   \n",
       "16     24000.0     Source Verified  Feb-2015  debt_consolidation   \n",
       "20     42000.0     Source Verified  Mar-2016      major_purchase   \n",
       "\n",
       "         ...        bc_open_to_buy  chargeoff_within_12_mths  delinq_amnt  \\\n",
       "5        ...                3281.0                       0.0          0.0   \n",
       "6        ...                8352.0                       0.0          0.0   \n",
       "8        ...                4513.0                       0.0          0.0   \n",
       "16       ...                1731.0                       0.0          0.0   \n",
       "20       ...                3759.0                       0.0          0.0   \n",
       "\n",
       "    mort_acc  pct_tl_nvr_dlq   timestamp   fico_range  mean_fico  \\\n",
       "5        0.0           100.0  1491434284  720.0-724.0      722.0   \n",
       "6        0.0           100.0  1491434180  665.0-669.0      667.0   \n",
       "8        0.0           100.0  1491434044  670.0-674.0      672.0   \n",
       "16       1.0            75.0  1491434180  665.0-669.0      667.0   \n",
       "20       0.0           100.0  1491434252  745.0-749.0      747.0   \n",
       "\n",
       "    last_fico_range  last_mean_fico  \n",
       "5       685.0-689.0           687.0  \n",
       "6       670.0-674.0           672.0  \n",
       "8       625.0-629.0           627.0  \n",
       "16      550.0-554.0           552.0  \n",
       "20      700.0-704.0           702.0  \n",
       "\n",
       "[5 rows x 34 columns]"
      ]
     },
     "execution_count": 144,
     "metadata": {},
     "output_type": "execute_result"
    }
   ],
   "source": [
    "c3.head()"
   ]
  },
  {
   "cell_type": "code",
   "execution_count": 112,
   "metadata": {
    "collapsed": false
   },
   "outputs": [
    {
     "data": {
      "text/plain": [
       "RandomForestRegressor(bootstrap=True, criterion='mse', max_depth=30,\n",
       "           max_features='auto', max_leaf_nodes=None,\n",
       "           min_impurity_split=1e-07, min_samples_leaf=1,\n",
       "           min_samples_split=2, min_weight_fraction_leaf=0.0,\n",
       "           n_estimators=10, n_jobs=1, oob_score=False, random_state=2,\n",
       "           verbose=0, warm_start=False)"
      ]
     },
     "execution_count": 112,
     "metadata": {},
     "output_type": "execute_result"
    }
   ],
   "source": [
    "X=c3[cols_to_keep]\n",
    "Y=c3['int_rate']\n",
    "max_depth = 30\n",
    "regr_rf = RandomForestRegressor(max_depth=max_depth, random_state=2)\n",
    "\n",
    "regr_rf.fit(X, Y)"
   ]
  },
  {
   "cell_type": "code",
   "execution_count": 133,
   "metadata": {
    "collapsed": false
   },
   "outputs": [
    {
     "ename": "ImportError",
     "evalue": "No module named 'pybrain'",
     "output_type": "error",
     "traceback": [
      "\u001b[0;31m---------------------------------------------------------------------------\u001b[0m",
      "\u001b[0;31mImportError\u001b[0m                               Traceback (most recent call last)",
      "\u001b[0;32m<ipython-input-133-8cd4c343fb9f>\u001b[0m in \u001b[0;36m<module>\u001b[0;34m()\u001b[0m\n\u001b[1;32m      1\u001b[0m \u001b[1;31m#python setup.py install\u001b[0m\u001b[1;33m\u001b[0m\u001b[1;33m\u001b[0m\u001b[0m\n\u001b[0;32m----> 2\u001b[0;31m \u001b[1;32mimport\u001b[0m \u001b[0mpybrain\u001b[0m\u001b[1;33m\u001b[0m\u001b[0m\n\u001b[0m\u001b[1;32m      3\u001b[0m \u001b[1;32mimport\u001b[0m \u001b[0msklearn\u001b[0m\u001b[1;33m\u001b[0m\u001b[0m\n\u001b[1;32m      4\u001b[0m \u001b[1;32mfrom\u001b[0m \u001b[0mpybrain\u001b[0m\u001b[1;33m.\u001b[0m\u001b[0mtools\u001b[0m\u001b[1;33m.\u001b[0m\u001b[0mshortcuts\u001b[0m \u001b[1;32mimport\u001b[0m \u001b[0mbuildNetwork\u001b[0m\u001b[1;33m\u001b[0m\u001b[0m\n\u001b[1;32m      5\u001b[0m \u001b[1;32mfrom\u001b[0m \u001b[0mpybrain\u001b[0m\u001b[1;33m.\u001b[0m\u001b[0mdatasets\u001b[0m \u001b[1;32mimport\u001b[0m \u001b[0mSupervisedDataSet\u001b[0m\u001b[1;33m\u001b[0m\u001b[0m\n",
      "\u001b[0;31mImportError\u001b[0m: No module named 'pybrain'"
     ]
    }
   ],
   "source": [
    "#python setup.py install\n",
    "import pybrain\n",
    "import sklearn\n",
    "from pybrain.tools.shortcuts import buildNetwork\n",
    "from pybrain.datasets import SupervisedDataSet\n",
    "from pybrain.supervised.trainers import BackpropTrainer\n",
    "net = buildNetwork(18,19, 1)"
   ]
  },
  {
   "cell_type": "code",
   "execution_count": null,
   "metadata": {
    "collapsed": true
   },
   "outputs": [],
   "source": [
    "ds = SupervisedDataSet(18,1)\n",
    "\n",
    "for index, row in curr_data.iterrows():\n",
    "    input_data = row[cols_to_keep]\n",
    "    output_data = row['OriginalInterestRate']\n",
    "    ds.addSample(input_data,output_data)"
   ]
  },
  {
   "cell_type": "code",
   "execution_count": null,
   "metadata": {
    "collapsed": true
   },
   "outputs": [],
   "source": [
    "trainer = BackpropTrainer(net, ds)"
   ]
  },
  {
   "cell_type": "code",
   "execution_count": null,
   "metadata": {
    "collapsed": true
   },
   "outputs": [],
   "source": [
    "trainer.train()"
   ]
  },
  {
   "cell_type": "code",
   "execution_count": null,
   "metadata": {
    "collapsed": true
   },
   "outputs": [],
   "source": [
    "trainer.trainUntilConvergence()"
   ]
  },
  {
   "cell_type": "code",
   "execution_count": 145,
   "metadata": {
    "collapsed": false
   },
   "outputs": [
    {
     "name": "stdout",
     "output_type": "stream",
     "text": [
      "train_df_x:\n",
      "(7763, 5)\n",
      "train_df_y:\n",
      "(7763, 1)\n",
      "test_df_x:\n",
      "(7763, 5)\n",
      "test_df_y:\n",
      "(7763, 1)\n"
     ]
    }
   ],
   "source": [
    "accepted_df_y = df1[['int_rate']]\n",
    "accepted_df_x = df1.drop(['int_rate'], axis=1)\n",
    "\n",
    "train_df_x, test_df_x, train_df_y, test_df_y = model_selection.train_test_split(\n",
    "    accepted_df_x, accepted_df_y, test_size=0.5, random_state=42)\n",
    "\n",
    "print(\"train_df_x:\")\n",
    "print(train_df_x.shape)\n",
    "\n",
    "print(\"train_df_y:\")\n",
    "print(train_df_y.shape)\n",
    "\n",
    "print(\"test_df_x:\")\n",
    "print(test_df_x.shape)\n",
    "\n",
    "print(\"test_df_y:\")\n",
    "print(test_df_y.shape)"
   ]
  },
  {
   "cell_type": "code",
   "execution_count": 119,
   "metadata": {
    "collapsed": false
   },
   "outputs": [
    {
     "name": "stderr",
     "output_type": "stream",
     "text": [
      "C:\\Users\\mahesh\\Miniconda3\\lib\\site-packages\\ipykernel\\__main__.py:18: DataConversionWarning: A column-vector y was passed when a 1d array was expected. Please change the shape of y to (n_samples,), for example using ravel().\n"
     ]
    },
    {
     "name": "stdout",
     "output_type": "stream",
     "text": [
      "Random Forest -> Fit successful\n"
     ]
    },
    {
     "name": "stderr",
     "output_type": "stream",
     "text": [
      "C:\\Users\\mahesh\\Miniconda3\\lib\\site-packages\\sklearn\\model_selection\\_validation.py:238: DataConversionWarning: A column-vector y was passed when a 1d array was expected. Please change the shape of y to (n_samples,), for example using ravel().\n",
      "  estimator.fit(X_train, y_train, **fit_params)\n",
      "C:\\Users\\mahesh\\Miniconda3\\lib\\site-packages\\sklearn\\model_selection\\_validation.py:238: DataConversionWarning: A column-vector y was passed when a 1d array was expected. Please change the shape of y to (n_samples,), for example using ravel().\n",
      "  estimator.fit(X_train, y_train, **fit_params)\n"
     ]
    },
    {
     "name": "stdout",
     "output_type": "stream",
     "text": [
      "Random Forest -> Score :  0.078144474522\n",
      "Random Forest -> mean_absolute_error :  3.16908932903\n",
      "Random Forest -> mean_squared_error :  16.6376472368\n",
      "RMSE 4.07892721641253\n"
     ]
    },
    {
     "name": "stderr",
     "output_type": "stream",
     "text": [
      "C:\\Users\\mahesh\\Miniconda3\\lib\\site-packages\\sklearn\\model_selection\\_validation.py:238: DataConversionWarning: A column-vector y was passed when a 1d array was expected. Please change the shape of y to (n_samples,), for example using ravel().\n",
      "  estimator.fit(X_train, y_train, **fit_params)\n"
     ]
    }
   ],
   "source": [
    "#Random Forest\n",
    "from sklearn.metrics import mean_squared_error\n",
    "from sklearn.metrics import mean_absolute_error\n",
    "from sklearn.metrics import mean_absolute_error\n",
    "from math import sqrt\n",
    "from sklearn.model_selection import cross_val_score\n",
    "from sklearn.ensemble import RandomForestRegressor\n",
    "def rand_forest(train_df_x,train_df_y,test_df_x,test_df_y):\n",
    "    max_depth = 30\n",
    "    regr_rf = RandomForestRegressor(max_depth=max_depth, random_state=2)\n",
    "    regr_rf.fit(train_df_x,train_df_y)\n",
    "    print('Random Forest -> Fit successful')\n",
    "    # Predict on new data \n",
    "    y_rf = regr_rf.predict(test_df_x)\n",
    "    #print(y_rf)\n",
    "    score=cross_val_score(regr_rf,train_df_x,train_df_y).mean()    \n",
    "    rms = sqrt(mean_squared_error(test_df_y, y_rf))\n",
    "    print('Random Forest -> Score : ',score)\n",
    "    print('Random Forest -> mean_absolute_error : ',mean_absolute_error(test_df_y,y_rf))\n",
    "    print('Random Forest -> mean_squared_error : ',mean_squared_error(test_df_y,y_rf))\n",
    "    print('Random Forest -> root_mean_squared_error :',rms)\n",
    "#print('Random Forest -> median_absolute_error : ',median_absolute_error(test_df_y,y_rf))\n",
    "rand_forest(train_df_x,train_df_y,test_df_x,test_df_y)"
   ]
  },
  {
   "cell_type": "code",
   "execution_count": 128,
   "metadata": {
    "collapsed": false
   },
   "outputs": [
    {
     "ename": "ImportError",
     "evalue": "No module named 'pybrain'",
     "output_type": "error",
     "traceback": [
      "\u001b[0;31m---------------------------------------------------------------------------\u001b[0m",
      "\u001b[0;31mImportError\u001b[0m                               Traceback (most recent call last)",
      "\u001b[0;32m<ipython-input-128-8998bff83423>\u001b[0m in \u001b[0;36m<module>\u001b[0;34m()\u001b[0m\n\u001b[0;32m----> 1\u001b[0;31m \u001b[1;32mimport\u001b[0m \u001b[0mpybrain\u001b[0m\u001b[1;33m\u001b[0m\u001b[0m\n\u001b[0m\u001b[1;32m      2\u001b[0m \u001b[1;32mfrom\u001b[0m \u001b[0mpybrain\u001b[0m\u001b[1;33m.\u001b[0m\u001b[0mtools\u001b[0m\u001b[1;33m.\u001b[0m\u001b[0mshortcuts\u001b[0m \u001b[1;32mimport\u001b[0m \u001b[0mbuildNetwork\u001b[0m\u001b[1;33m\u001b[0m\u001b[0m\n\u001b[1;32m      3\u001b[0m \u001b[1;32mfrom\u001b[0m \u001b[0mpybrain\u001b[0m\u001b[1;33m.\u001b[0m\u001b[0mtools\u001b[0m\u001b[1;33m.\u001b[0m\u001b[0mshortcuts\u001b[0m \u001b[1;32mimport\u001b[0m \u001b[0mbuildNetwork\u001b[0m\u001b[1;33m\u001b[0m\u001b[0m\n\u001b[1;32m      4\u001b[0m \u001b[1;33m\u001b[0m\u001b[0m\n\u001b[1;32m      5\u001b[0m \u001b[1;32mfrom\u001b[0m \u001b[0mpybrain\u001b[0m\u001b[1;33m.\u001b[0m\u001b[0mdatasets\u001b[0m \u001b[1;32mimport\u001b[0m \u001b[0mSupervisedDataSet\u001b[0m\u001b[1;33m\u001b[0m\u001b[0m\n",
      "\u001b[0;31mImportError\u001b[0m: No module named 'pybrain'"
     ]
    }
   ],
   "source": [
    "#import pybrain\n",
    "from pybrain.tools.shortcuts import buildNetwork\n",
    "from pybrain.tools.shortcuts import buildNetwork\n",
    "from pybrain.datasets import SupervisedDataSet\n",
    "\n",
    "from pybrain.supervised.trainers import BackpropTrainer\n",
    "def Neural_nwt(train_df_x,test_df_x):\n",
    "\n",
    "    net = buildNetwork(18,5, 1)\n",
    "\n",
    "    ds = SupervisedDataSet(18,1)\n",
    "\n",
    "\n",
    "\n",
    "    for index, row in df1.iterrows():\n",
    "\n",
    "        input_data = row[cols_to_keep]\n",
    "\n",
    "        output_data = row['int_rate']\n",
    "\n",
    "        ds.addSample(input_data,output_data)\n",
    "\n",
    "    \n",
    "\n",
    "    print('Neural_nwt -> Samples Added')\n",
    "\n",
    "    print('Neural_nwt -> Training network')\n",
    "\n",
    "    trainer = BackpropTrainer(net, ds)\n",
    "\n",
    "    trainer.trainUntilConvergence()\n",
    "\n",
    "    \n",
    "\n",
    "    print('Neural_nwt -> Activating inputs')\n",
    "\n",
    "    for index, row in next_data.iterrows():\n",
    "\n",
    "        input_data = row[cols_to_keep]\n",
    "\n",
    "        output_data = row['int_rate']\n",
    "\n",
    "        #ds.addSample(input_data,output_data)\n",
    "\n",
    "        print(net.activate(input_data))\n",
    "Neural_nwt(train_df_x,test_df_x)"
   ]
  },
  {
   "cell_type": "code",
   "execution_count": 120,
   "metadata": {
    "collapsed": true
   },
   "outputs": [],
   "source": [
    "def getAccuracy(testSet, predictions):\n",
    "\n",
    "    correct = 0\n",
    "\n",
    "    for x in range(len(testSet)):\n",
    "\n",
    "        if testSet[x][-1] == predictions[x]:\n",
    "\n",
    "            correct += 1\n",
    "\n",
    "    return (correct/float(len(testSet))) * 100.0"
   ]
  },
  {
   "cell_type": "code",
   "execution_count": 146,
   "metadata": {
    "collapsed": true
   },
   "outputs": [],
   "source": [
    "from sklearn.neural_network import MLPClassifier\n",
    "   "
   ]
  },
  {
   "cell_type": "code",
   "execution_count": 156,
   "metadata": {
    "collapsed": false
   },
   "outputs": [
    {
     "name": "stdout",
     "output_type": "stream",
     "text": [
      "KNN---------------\n",
      "Training Data:\n",
      "MAE:2.85108312937\n",
      "RMSE:3.6477975530534903\n",
      "Median Absolute Error:2.35833333333\n"
     ]
    },
    {
     "data": {
      "image/png": "[encoded data removed]",
      "text/plain": [
       "<matplotlib.figure.Figure at 0x199d4333160>"
      ]
     },
     "metadata": {},
     "output_type": "display_data"
    }
   ],
   "source": [
    "##KNN\n",
    "from sklearn.neighbors import KNeighborsRegressor\n",
    "import math\n",
    "from sklearn.metrics import median_absolute_error\n",
    "def computations(org,x,y):\n",
    "    testlr=org.predict(x)\n",
    "    #Mean Absolute Error \n",
    "    mae=mean_absolute_error(y,testlr);\n",
    "    print(\"MAE:\"+str(mae))\n",
    "    #RMSE \n",
    "    rmse=math.sqrt(mean_squared_error(y,testlr))\n",
    "    print(\"RMSE:\"+str(rmse))\n",
    "    #Median Absolute error\n",
    "    Medae=median_absolute_error(y,testlr)\n",
    "    print(\"Median Absolute Error:\"+str(Medae))    \n",
    "def KNNAnalysis(train_df_x,test_df_x):\n",
    "    neigh = KNeighborsRegressor(n_neighbors=6)\n",
    "    neigh.fit(train_df_x,train_df_y) \n",
    "    print(\"KNN---------------\")\n",
    "    computations(neigh,train_df_x,train_df_y)\n",
    "    plt.scatter(neigh.predict(train_df_x),neigh.predict(train_df_x)-train_df_y,c='b',s=40,alpha=0.5)\n",
    "    plt.scatter(neigh.predict(test_df_x),neigh.predict(test_df_x)-test_df_y,c=\"g\",s=40)\n",
    "    plt.hlines(y=0,xmin=2,xmax=10)\n",
    "    plt.title('Residual plot using training(blue) and test(green) data')\n",
    "    plt.ylabel('Residuals')\n",
    "    plt.show()\n",
    "KNNAnalysis(train_df_x,test_df_x)"
   ]
  },
  {
   "cell_type": "code",
   "execution_count": 163,
   "metadata": {
    "collapsed": false
   },
   "outputs": [
    {
     "ename": "ImportError",
     "evalue": "No module named 'pybrain'",
     "output_type": "error",
     "traceback": [
      "\u001b[0;31m---------------------------------------------------------------------------\u001b[0m",
      "\u001b[0;31mImportError\u001b[0m                               Traceback (most recent call last)",
      "\u001b[0;32m<ipython-input-163-6b9117982873>\u001b[0m in \u001b[0;36m<module>\u001b[0;34m()\u001b[0m\n\u001b[1;32m      1\u001b[0m \u001b[1;31m#Neural Network\u001b[0m\u001b[1;33m\u001b[0m\u001b[1;33m\u001b[0m\u001b[0m\n\u001b[0;32m----> 2\u001b[0;31m \u001b[1;32mfrom\u001b[0m \u001b[0mpybrain\u001b[0m\u001b[1;33m.\u001b[0m\u001b[0mdatasets\u001b[0m\u001b[1;33m.\u001b[0m\u001b[0msupervised\u001b[0m \u001b[1;32mimport\u001b[0m \u001b[0mSupervisedDataSet\u001b[0m \u001b[1;32mas\u001b[0m \u001b[0mSDS\u001b[0m\u001b[1;33m\u001b[0m\u001b[0m\n\u001b[0m\u001b[1;32m      3\u001b[0m \u001b[1;33m\u001b[0m\u001b[0m\n\u001b[1;32m      4\u001b[0m \u001b[1;33m\u001b[0m\u001b[0m\n\u001b[1;32m      5\u001b[0m \u001b[1;32mfrom\u001b[0m \u001b[0msklearn\u001b[0m\u001b[1;33m.\u001b[0m\u001b[0mfeature_selection\u001b[0m \u001b[1;32mimport\u001b[0m \u001b[0mSelectKBest\u001b[0m\u001b[1;33m\u001b[0m\u001b[0m\n",
      "\u001b[0;31mImportError\u001b[0m: No module named 'pybrain'"
     ]
    }
   ],
   "source": [
    "#Neural Network\n",
    "from pybrain.datasets.supervised import SupervisedDataSet as SDS\n",
    "\n",
    "\n",
    "from sklearn.feature_selection import SelectKBest\n",
    "from sklearn.feature_selection import RFE\n",
    "from sklearn.svm import SVR\n",
    "from sklearn.feature_selection import SelectFromModel\n",
    "from sklearn.linear_model import LassoCV\n",
    "from sklearn.feature_selection import f_regression \n",
    "from sklearn.linear_model import RandomizedLasso\n",
    "from sklearn.linear_model import LassoLarsCV\n",
    "from sklearn.metrics import *\n",
    "from pybrain.tools.shortcuts import buildNetwork\n",
    "from pybrain.datasets.supervised import SupervisedDataSet as SDS\n",
    "from pybrain.supervised.trainers import BackpropTrainer\n",
    "from pybrain.tools.shortcuts import buildNetwork\n",
    "def NeuralNetworkAnalysis(train_df_x,test_df_x):\n",
    "    print(\"Neural Network Analysis-------------\")\n",
    "    hidden_size = 3\n",
    "    epochs = 2\n",
    "    input_size = train_df_x.shape[1]\n",
    "    target_size = train_df_y.shape[1]\n",
    "    ds = SDS( input_size, target_size )\n",
    "    ds.setField( 'input', train_df_x )\n",
    "    ds.setField( 'target', train_df_y )\n",
    "\n",
    "    net = buildNetwork( input_size, hidden_size, target_size, bias = True )\n",
    "    trainer = BackpropTrainer( net,ds )\n",
    "\n",
    "    print(\"Training for {} epochs...\".format( epochs ))\n",
    "\n",
    "    for i in range( epochs ):\n",
    "        mse = trainer.train()\n",
    "        rmse = math.sqrt( mse )\n",
    "    print(\"Training RMSE, epoch {}: {}\".format( i + 1, rmse ))\n",
    "\n",
    "    #y_test1=TestData1.int_rt\n",
    "    #y_test1=y_test1.reshape(-1,1)\n",
    "    #TestData1.drop('int_rt',axis=1,inplace=True)\n",
    "    #x_test1=TestData1\n",
    "\n",
    "    input_size = test_df_x.shape[1]\n",
    "    target_size = test_df_y.shape[1]\n",
    "\n",
    "    ds = SDS( input_size, target_size )\n",
    "    ds.setField( 'input', test_df_x)\n",
    "    ds.setField( 'target',test_df_y)\n",
    "\n",
    "    p = net.activateOnDataset( ds )\n",
    "\n",
    "    mse = mean_squared_error(test_df_y, p )\n",
    "    rmse =math.sqrt(mse)\n",
    "    print(\"Testing rmse:\"+str(rmse))\n",
    "    \n",
    "NeuralNetworkAnalysis(train_df_x,test_df_x)"
   ]
  },
  {
   "cell_type": "code",
   "execution_count": null,
   "metadata": {
    "collapsed": true
   },
   "outputs": [],
   "source": []
  }
 ],
 "metadata": {
  "kernelspec": {
   "display_name": "Python 3",
   "language": "python",
   "name": "python3"
  },
  "language_info": {
   "codemirror_mode": {
    "name": "ipython",
    "version": 3
   },
   "file_extension": ".py",
   "mimetype": "text/x-python",
   "name": "python",
   "nbconvert_exporter": "python",
   "pygments_lexer": "ipython3",
   "version": "3.5.2"
  }
 },
 "nbformat": 4,
 "nbformat_minor": 2
}
