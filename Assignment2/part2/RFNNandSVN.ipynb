{
 "cells": [
  {
   "cell_type": "code",
   "execution_count": 1,
   "metadata": {
    "collapsed": false
   },
   "outputs": [],
   "source": [
    "import matplotlib.pyplot as plt\n",
    "import numpy as np\n",
    "import os\n",
    "import pandas as pd\n",
    "import pylab as pl\n",
    "#import seaborn as sns\n",
    "#import statsmodels.api as sm\n",
    "\n",
    "#%matplotlib inline\n",
    "#sns.set(style='white', font_scale=0.9)\n",
    "\n",
    "data_directory = os.path.join('.', 'cleaned_data') \n",
    "\n",
    "cleaned_accepted_data_path = os.path.join(data_directory, 'Cleaned_AcceptedLoanData.csv')\n",
    "cleaned_rejected_data_path = os.path.join(data_directory, 'Cleaned_RejectedLoanData.csv')  "
   ]
  },
  {
   "cell_type": "code",
   "execution_count": 2,
   "metadata": {
    "collapsed": false
   },
   "outputs": [
    {
     "name": "stdout",
     "output_type": "stream",
     "text": [
      "<class 'pandas.core.frame.DataFrame'>\n",
      "RangeIndex: 131893 entries, 0 to 131892\n",
      "Data columns (total 34 columns):\n",
      "Unnamed: 0                    131893 non-null int64\n",
      "loan_amnt                     131893 non-null float64\n",
      "term                          131893 non-null object\n",
      "int_rate                      131893 non-null float64\n",
      "emp_length                    131893 non-null float64\n",
      "home_ownership                131893 non-null object\n",
      "annual_inc                    131893 non-null float64\n",
      "verification_status           131893 non-null object\n",
      "issue_d                       131893 non-null object\n",
      "purpose                       131893 non-null object\n",
      "dti                           131893 non-null float64\n",
      "delinq_2yrs                   131893 non-null float64\n",
      "earliest_cr_line              131893 non-null int64\n",
      "inq_last_6mths                131893 non-null float64\n",
      "mths_since_last_delinq        131893 non-null float64\n",
      "pub_rec                       131893 non-null float64\n",
      "revol_bal                     131893 non-null float64\n",
      "revol_util                    131893 non-null float64\n",
      "total_acc                     131893 non-null float64\n",
      "collections_12_mths_ex_med    131893 non-null float64\n",
      "application_type              131893 non-null object\n",
      "verification_status_joint     131893 non-null object\n",
      "acc_open_past_24mths          131893 non-null float64\n",
      "avg_cur_bal                   131893 non-null float64\n",
      "bc_open_to_buy                131893 non-null float64\n",
      "chargeoff_within_12_mths      131893 non-null float64\n",
      "delinq_amnt                   131893 non-null float64\n",
      "mort_acc                      131893 non-null float64\n",
      "pct_tl_nvr_dlq                131893 non-null float64\n",
      "timestamp                     131893 non-null int64\n",
      "fico_range                    131893 non-null object\n",
      "mean_fico                     131893 non-null float64\n",
      "last_fico_range               131893 non-null object\n",
      "last_mean_fico                131893 non-null float64\n",
      "dtypes: float64(22), int64(3), object(9)\n",
      "memory usage: 34.2+ MB\n",
      "None\n",
      "<class 'pandas.core.frame.DataFrame'>\n",
      "RangeIndex: 131893 entries, 0 to 131892\n",
      "Data columns (total 5 columns):\n",
      "loan_amnt     131893 non-null float64\n",
      "mean_fico     131893 non-null float64\n",
      "dti           131893 non-null float64\n",
      "emp_length    131893 non-null float64\n",
      "accepted      131893 non-null int64\n",
      "dtypes: float64(4), int64(1)\n",
      "memory usage: 5.0 MB\n",
      "None\n"
     ]
    },
    {
     "data": {
      "text/html": [
       "<div>\n",
       "<table border=\"1\" class=\"dataframe\">\n",
       "  <thead>\n",
       "    <tr style=\"text-align: right;\">\n",
       "      <th></th>\n",
       "      <th>loan_amnt</th>\n",
       "      <th>mean_fico</th>\n",
       "      <th>dti</th>\n",
       "      <th>emp_length</th>\n",
       "      <th>accepted</th>\n",
       "    </tr>\n",
       "  </thead>\n",
       "  <tbody>\n",
       "    <tr>\n",
       "      <th>count</th>\n",
       "      <td>131893.000000</td>\n",
       "      <td>131893.000000</td>\n",
       "      <td>131893.000000</td>\n",
       "      <td>131893.000000</td>\n",
       "      <td>131893.0</td>\n",
       "    </tr>\n",
       "    <tr>\n",
       "      <th>mean</th>\n",
       "      <td>14770.019827</td>\n",
       "      <td>697.036977</td>\n",
       "      <td>18.242888</td>\n",
       "      <td>5.779071</td>\n",
       "      <td>1.0</td>\n",
       "    </tr>\n",
       "    <tr>\n",
       "      <th>std</th>\n",
       "      <td>8637.705924</td>\n",
       "      <td>30.746097</td>\n",
       "      <td>8.296326</td>\n",
       "      <td>3.724609</td>\n",
       "      <td>0.0</td>\n",
       "    </tr>\n",
       "    <tr>\n",
       "      <th>min</th>\n",
       "      <td>600.000000</td>\n",
       "      <td>622.000000</td>\n",
       "      <td>0.000000</td>\n",
       "      <td>0.000000</td>\n",
       "      <td>1.0</td>\n",
       "    </tr>\n",
       "    <tr>\n",
       "      <th>25%</th>\n",
       "      <td>8000.000000</td>\n",
       "      <td>672.000000</td>\n",
       "      <td>12.040000</td>\n",
       "      <td>2.000000</td>\n",
       "      <td>1.0</td>\n",
       "    </tr>\n",
       "    <tr>\n",
       "      <th>50%</th>\n",
       "      <td>13000.000000</td>\n",
       "      <td>692.000000</td>\n",
       "      <td>17.760000</td>\n",
       "      <td>6.000000</td>\n",
       "      <td>1.0</td>\n",
       "    </tr>\n",
       "    <tr>\n",
       "      <th>75%</th>\n",
       "      <td>20000.000000</td>\n",
       "      <td>712.000000</td>\n",
       "      <td>24.110000</td>\n",
       "      <td>10.000000</td>\n",
       "      <td>1.0</td>\n",
       "    </tr>\n",
       "    <tr>\n",
       "      <th>max</th>\n",
       "      <td>40000.000000</td>\n",
       "      <td>847.500000</td>\n",
       "      <td>46.520000</td>\n",
       "      <td>10.000000</td>\n",
       "      <td>1.0</td>\n",
       "    </tr>\n",
       "  </tbody>\n",
       "</table>\n",
       "</div>"
      ],
      "text/plain": [
       "           loan_amnt      mean_fico            dti     emp_length  accepted\n",
       "count  131893.000000  131893.000000  131893.000000  131893.000000  131893.0\n",
       "mean    14770.019827     697.036977      18.242888       5.779071       1.0\n",
       "std      8637.705924      30.746097       8.296326       3.724609       0.0\n",
       "min       600.000000     622.000000       0.000000       0.000000       1.0\n",
       "25%      8000.000000     672.000000      12.040000       2.000000       1.0\n",
       "50%     13000.000000     692.000000      17.760000       6.000000       1.0\n",
       "75%     20000.000000     712.000000      24.110000      10.000000       1.0\n",
       "max     40000.000000     847.500000      46.520000      10.000000       1.0"
      ]
     },
     "execution_count": 2,
     "metadata": {},
     "output_type": "execute_result"
    }
   ],
   "source": [
    "accepted_df = pd.read_csv(cleaned_accepted_data_path, low_memory=False, encoding='UTF-8')\n",
    "print(accepted_df.info())\n",
    "\n",
    "# Include selected columns.\n",
    "accepted_df = accepted_df[['loan_amnt', 'mean_fico', 'dti', 'emp_length']]\n",
    "\n",
    "# Add a column to indicate that this loan was accepted.\n",
    "accepted_df['accepted'] = int(1)\n",
    "print(accepted_df.info())\n",
    "accepted_df.describe()"
   ]
  },
  {
   "cell_type": "code",
   "execution_count": 3,
   "metadata": {
    "collapsed": false
   },
   "outputs": [
    {
     "name": "stdout",
     "output_type": "stream",
     "text": [
      "<class 'pandas.core.frame.DataFrame'>\n",
      "RangeIndex: 1107939 entries, 0 to 1107938\n",
      "Data columns (total 5 columns):\n",
      "Unnamed: 0    1107939 non-null int64\n",
      "loan_amnt     1107939 non-null float64\n",
      "mean_fico     467802 non-null float64\n",
      "dti           1107939 non-null float64\n",
      "emp_length    1107939 non-null float64\n",
      "dtypes: float64(4), int64(1)\n",
      "memory usage: 42.3 MB\n",
      "None\n",
      "<class 'pandas.core.frame.DataFrame'>\n",
      "RangeIndex: 1107939 entries, 0 to 1107938\n",
      "Data columns (total 5 columns):\n",
      "loan_amnt     1107939 non-null float64\n",
      "mean_fico     467802 non-null float64\n",
      "dti           1107939 non-null float64\n",
      "emp_length    1107939 non-null float64\n",
      "accepted      1107939 non-null int64\n",
      "dtypes: float64(4), int64(1)\n",
      "memory usage: 42.3 MB\n",
      "None\n"
     ]
    },
    {
     "data": {
      "text/html": [
       "<div>\n",
       "<table border=\"1\" class=\"dataframe\">\n",
       "  <thead>\n",
       "    <tr style=\"text-align: right;\">\n",
       "      <th></th>\n",
       "      <th>loan_amnt</th>\n",
       "      <th>mean_fico</th>\n",
       "      <th>dti</th>\n",
       "      <th>emp_length</th>\n",
       "      <th>accepted</th>\n",
       "    </tr>\n",
       "  </thead>\n",
       "  <tbody>\n",
       "    <tr>\n",
       "      <th>count</th>\n",
       "      <td>1.107939e+06</td>\n",
       "      <td>467802.000000</td>\n",
       "      <td>1.107939e+06</td>\n",
       "      <td>1.107939e+06</td>\n",
       "      <td>1107939.0</td>\n",
       "    </tr>\n",
       "    <tr>\n",
       "      <th>mean</th>\n",
       "      <td>1.342488e+04</td>\n",
       "      <td>623.460058</td>\n",
       "      <td>1.956712e+02</td>\n",
       "      <td>1.705757e+00</td>\n",
       "      <td>0.0</td>\n",
       "    </tr>\n",
       "    <tr>\n",
       "      <th>std</th>\n",
       "      <td>1.638031e+04</td>\n",
       "      <td>108.185247</td>\n",
       "      <td>9.295243e+03</td>\n",
       "      <td>1.883706e+00</td>\n",
       "      <td>0.0</td>\n",
       "    </tr>\n",
       "    <tr>\n",
       "      <th>min</th>\n",
       "      <td>0.000000e+00</td>\n",
       "      <td>0.000000</td>\n",
       "      <td>-1.000000e+00</td>\n",
       "      <td>0.000000e+00</td>\n",
       "      <td>0.0</td>\n",
       "    </tr>\n",
       "    <tr>\n",
       "      <th>25%</th>\n",
       "      <td>4.500000e+03</td>\n",
       "      <td>590.000000</td>\n",
       "      <td>6.100000e+00</td>\n",
       "      <td>1.000000e+00</td>\n",
       "      <td>0.0</td>\n",
       "    </tr>\n",
       "    <tr>\n",
       "      <th>50%</th>\n",
       "      <td>1.000000e+04</td>\n",
       "      <td>640.000000</td>\n",
       "      <td>1.802000e+01</td>\n",
       "      <td>1.000000e+00</td>\n",
       "      <td>0.0</td>\n",
       "    </tr>\n",
       "    <tr>\n",
       "      <th>75%</th>\n",
       "      <td>2.000000e+04</td>\n",
       "      <td>678.000000</td>\n",
       "      <td>3.360000e+01</td>\n",
       "      <td>1.000000e+00</td>\n",
       "      <td>0.0</td>\n",
       "    </tr>\n",
       "    <tr>\n",
       "      <th>max</th>\n",
       "      <td>1.400000e+06</td>\n",
       "      <td>990.000000</td>\n",
       "      <td>7.130330e+06</td>\n",
       "      <td>1.000000e+01</td>\n",
       "      <td>0.0</td>\n",
       "    </tr>\n",
       "  </tbody>\n",
       "</table>\n",
       "</div>"
      ],
      "text/plain": [
       "          loan_amnt      mean_fico           dti    emp_length   accepted\n",
       "count  1.107939e+06  467802.000000  1.107939e+06  1.107939e+06  1107939.0\n",
       "mean   1.342488e+04     623.460058  1.956712e+02  1.705757e+00        0.0\n",
       "std    1.638031e+04     108.185247  9.295243e+03  1.883706e+00        0.0\n",
       "min    0.000000e+00       0.000000 -1.000000e+00  0.000000e+00        0.0\n",
       "25%    4.500000e+03     590.000000  6.100000e+00  1.000000e+00        0.0\n",
       "50%    1.000000e+04     640.000000  1.802000e+01  1.000000e+00        0.0\n",
       "75%    2.000000e+04     678.000000  3.360000e+01  1.000000e+00        0.0\n",
       "max    1.400000e+06     990.000000  7.130330e+06  1.000000e+01        0.0"
      ]
     },
     "execution_count": 3,
     "metadata": {},
     "output_type": "execute_result"
    }
   ],
   "source": [
    "# Amount Requested,Application Date,Loan Title,Risk_Score,Debt-To-Income Ratio,Zip Code,State,Employment Length,Policy Code,timestamp\n",
    "rejected_df = pd.read_csv(cleaned_rejected_data_path, low_memory=False, encoding='UTF-8')\n",
    "print(rejected_df.info())\n",
    "\n",
    "# Include selected columns and rename them.\n",
    "rejected_df = rejected_df[['loan_amnt', 'mean_fico', 'dti', 'emp_length']]\n",
    "\n",
    "# Add a column to indicate that this loan was rejected.\n",
    "rejected_df['accepted'] = int(0)\n",
    "\n",
    "print(rejected_df.info())\n",
    "rejected_df.describe()"
   ]
  },
  {
   "cell_type": "code",
   "execution_count": 4,
   "metadata": {
    "collapsed": false
   },
   "outputs": [
    {
     "name": "stdout",
     "output_type": "stream",
     "text": [
      "<class 'pandas.core.frame.DataFrame'>\n",
      "RangeIndex: 1107939 entries, 0 to 1107938\n",
      "Data columns (total 5 columns):\n",
      "loan_amnt     1107939 non-null float64\n",
      "mean_fico     1107939 non-null float64\n",
      "dti           1107939 non-null float64\n",
      "emp_length    1107939 non-null float64\n",
      "accepted      1107939 non-null int64\n",
      "dtypes: float64(4), int64(1)\n",
      "memory usage: 42.3 MB\n",
      "None\n"
     ]
    },
    {
     "data": {
      "text/html": [
       "<div>\n",
       "<table border=\"1\" class=\"dataframe\">\n",
       "  <thead>\n",
       "    <tr style=\"text-align: right;\">\n",
       "      <th></th>\n",
       "      <th>loan_amnt</th>\n",
       "      <th>mean_fico</th>\n",
       "      <th>dti</th>\n",
       "      <th>emp_length</th>\n",
       "      <th>accepted</th>\n",
       "    </tr>\n",
       "  </thead>\n",
       "  <tbody>\n",
       "    <tr>\n",
       "      <th>count</th>\n",
       "      <td>1.107939e+06</td>\n",
       "      <td>1.107939e+06</td>\n",
       "      <td>1.107939e+06</td>\n",
       "      <td>1.107939e+06</td>\n",
       "      <td>1107939.0</td>\n",
       "    </tr>\n",
       "    <tr>\n",
       "      <th>mean</th>\n",
       "      <td>1.342488e+04</td>\n",
       "      <td>2.632418e+02</td>\n",
       "      <td>1.956712e+02</td>\n",
       "      <td>1.705757e+00</td>\n",
       "      <td>0.0</td>\n",
       "    </tr>\n",
       "    <tr>\n",
       "      <th>std</th>\n",
       "      <td>1.638031e+04</td>\n",
       "      <td>3.158581e+02</td>\n",
       "      <td>9.295243e+03</td>\n",
       "      <td>1.883706e+00</td>\n",
       "      <td>0.0</td>\n",
       "    </tr>\n",
       "    <tr>\n",
       "      <th>min</th>\n",
       "      <td>0.000000e+00</td>\n",
       "      <td>0.000000e+00</td>\n",
       "      <td>-1.000000e+00</td>\n",
       "      <td>0.000000e+00</td>\n",
       "      <td>0.0</td>\n",
       "    </tr>\n",
       "    <tr>\n",
       "      <th>25%</th>\n",
       "      <td>4.500000e+03</td>\n",
       "      <td>0.000000e+00</td>\n",
       "      <td>6.100000e+00</td>\n",
       "      <td>1.000000e+00</td>\n",
       "      <td>0.0</td>\n",
       "    </tr>\n",
       "    <tr>\n",
       "      <th>50%</th>\n",
       "      <td>1.000000e+04</td>\n",
       "      <td>0.000000e+00</td>\n",
       "      <td>1.802000e+01</td>\n",
       "      <td>1.000000e+00</td>\n",
       "      <td>0.0</td>\n",
       "    </tr>\n",
       "    <tr>\n",
       "      <th>75%</th>\n",
       "      <td>2.000000e+04</td>\n",
       "      <td>6.240000e+02</td>\n",
       "      <td>3.360000e+01</td>\n",
       "      <td>1.000000e+00</td>\n",
       "      <td>0.0</td>\n",
       "    </tr>\n",
       "    <tr>\n",
       "      <th>max</th>\n",
       "      <td>1.400000e+06</td>\n",
       "      <td>9.900000e+02</td>\n",
       "      <td>7.130330e+06</td>\n",
       "      <td>1.000000e+01</td>\n",
       "      <td>0.0</td>\n",
       "    </tr>\n",
       "  </tbody>\n",
       "</table>\n",
       "</div>"
      ],
      "text/plain": [
       "          loan_amnt     mean_fico           dti    emp_length   accepted\n",
       "count  1.107939e+06  1.107939e+06  1.107939e+06  1.107939e+06  1107939.0\n",
       "mean   1.342488e+04  2.632418e+02  1.956712e+02  1.705757e+00        0.0\n",
       "std    1.638031e+04  3.158581e+02  9.295243e+03  1.883706e+00        0.0\n",
       "min    0.000000e+00  0.000000e+00 -1.000000e+00  0.000000e+00        0.0\n",
       "25%    4.500000e+03  0.000000e+00  6.100000e+00  1.000000e+00        0.0\n",
       "50%    1.000000e+04  0.000000e+00  1.802000e+01  1.000000e+00        0.0\n",
       "75%    2.000000e+04  6.240000e+02  3.360000e+01  1.000000e+00        0.0\n",
       "max    1.400000e+06  9.900000e+02  7.130330e+06  1.000000e+01        0.0"
      ]
     },
     "execution_count": 4,
     "metadata": {},
     "output_type": "execute_result"
    }
   ],
   "source": [
    "rejected_df['mean_fico'].fillna(0.0, inplace=True)\n",
    "\n",
    "print(rejected_df.info())\n",
    "rejected_df.describe()"
   ]
  },
  {
   "cell_type": "code",
   "execution_count": 5,
   "metadata": {
    "collapsed": false
   },
   "outputs": [
    {
     "name": "stdout",
     "output_type": "stream",
     "text": [
      "(131893, 5)\n",
      "(1107939, 5)\n"
     ]
    }
   ],
   "source": [
    "print(accepted_df.shape)\n",
    "print(rejected_df.shape)"
   ]
  },
  {
   "cell_type": "code",
   "execution_count": 6,
   "metadata": {
    "collapsed": false
   },
   "outputs": [
    {
     "name": "stdout",
     "output_type": "stream",
     "text": [
      "accepted_train_df:\n",
      "(65946, 5)\n",
      "accepted_test_df:\n",
      "(65947, 5)\n"
     ]
    }
   ],
   "source": [
    "accepted_train_df, accepted_test_df = np.split(accepted_df.sample(frac=1), [int(0.5*len(accepted_df))])\n",
    "print(\"accepted_train_df:\")\n",
    "print(accepted_train_df.shape)\n",
    "print(\"accepted_test_df:\")\n",
    "print(accepted_test_df.shape)"
   ]
  },
  {
   "cell_type": "code",
   "execution_count": 7,
   "metadata": {
    "collapsed": false
   },
   "outputs": [
    {
     "name": "stdout",
     "output_type": "stream",
     "text": [
      "rejected_train_df:\n",
      "(553969, 5)\n",
      "rejected_test_df:\n",
      "(553970, 5)\n"
     ]
    }
   ],
   "source": [
    "rejected_train_df, rejected_test_df = np.split(rejected_df.sample(frac=1), [int(0.5*len(rejected_df))])\n",
    "print(\"rejected_train_df:\")\n",
    "print(rejected_train_df.shape)\n",
    "print(\"rejected_test_df:\")\n",
    "print(rejected_test_df.shape)"
   ]
  },
  {
   "cell_type": "code",
   "execution_count": 8,
   "metadata": {
    "collapsed": false
   },
   "outputs": [
    {
     "name": "stdout",
     "output_type": "stream",
     "text": [
      "train_df:\n",
      "(619915, 5)\n",
      "   loan_amnt  mean_fico    dti  emp_length  accepted\n",
      "0     1000.0      498.0  13.06         1.0         0\n",
      "1    35000.0      726.0  39.36         1.0         0\n",
      "2     2500.0      537.0  26.05         1.0         0\n",
      "3     6000.0        0.0  39.69         0.0         0\n",
      "4    12000.0      677.0  21.45         8.0         1\n"
     ]
    }
   ],
   "source": [
    "train_df = pd.concat([accepted_train_df, rejected_train_df])\n",
    "\n",
    "# Shuffle the rows.\n",
    "train_df = train_df.sample(frac=1).reset_index(drop=True)\n",
    "print(\"train_df:\")\n",
    "print(train_df.shape)\n",
    "print(train_df.head())"
   ]
  },
  {
   "cell_type": "code",
   "execution_count": 9,
   "metadata": {
    "collapsed": false
   },
   "outputs": [
    {
     "name": "stdout",
     "output_type": "stream",
     "text": [
      "test_df:\n",
      "(619917, 5)\n",
      "   loan_amnt  mean_fico    dti  emp_length  accepted\n",
      "0    15000.0      637.0  63.72         1.0         0\n",
      "1     2000.0        0.0  -1.00         1.0         0\n",
      "2    40000.0      686.0  12.55         1.0         0\n",
      "3    20000.0      745.0  28.85         1.0         0\n",
      "4     4000.0      720.0   9.00         1.0         0\n"
     ]
    }
   ],
   "source": [
    "test_df = pd.concat([accepted_test_df, rejected_test_df])\n",
    "\n",
    "# Shuffle the rows.\n",
    "test_df = test_df.sample(frac=1).reset_index(drop=True)\n",
    "print(\"test_df:\")\n",
    "print(test_df.shape)\n",
    "print(test_df.head()) "
   ]
  },
  {
   "cell_type": "code",
   "execution_count": 10,
   "metadata": {
    "collapsed": true
   },
   "outputs": [],
   "source": [
    "from sklearn.ensemble import RandomForestClassifier\n",
    "from sklearn import ensemble\n",
    "\n"
   ]
  },
  {
   "cell_type": "code",
   "execution_count": 11,
   "metadata": {
    "collapsed": false
   },
   "outputs": [
    {
     "name": "stderr",
     "output_type": "stream",
     "text": [
      "C:\\Users\\Admin\\Anaconda3\\lib\\site-packages\\ipykernel\\__main__.py:10: DataConversionWarning: A column-vector y was passed when a 1d array was expected. Please change the shape of y to (n_samples,), for example using ravel().\n"
     ]
    },
    {
     "data": {
      "text/plain": [
       "RandomForestClassifier(bootstrap=True, class_weight=None, criterion='gini',\n",
       "            max_depth=None, max_features='auto', max_leaf_nodes=None,\n",
       "            min_impurity_split=1e-07, min_samples_leaf=1,\n",
       "            min_samples_split=2, min_weight_fraction_leaf=0.0,\n",
       "            n_estimators=100, n_jobs=1, oob_score=False, random_state=None,\n",
       "            verbose=0, warm_start=False)"
      ]
     },
     "execution_count": 11,
     "metadata": {},
     "output_type": "execute_result"
    }
   ],
   "source": [
    "#cols = ['loan_amt','mean_fico','dti','emp_length']   \n",
    "#colsRes = ['accepted']\n",
    "\n",
    "trainArr = train_df[['loan_amnt','mean_fico','dti','emp_length']]  #training array\n",
    "trainRes = train_df[['accepted']] # training results\n",
    "\n",
    "## Training\n",
    "\n",
    "rf = ensemble.RandomForestClassifier(n_estimators=100) # initialize\n",
    "rf.fit(trainArr, trainRes)\n"
   ]
  },
  {
   "cell_type": "code",
   "execution_count": 13,
   "metadata": {
    "collapsed": false
   },
   "outputs": [
    {
     "data": {
      "text/plain": [
       "False"
      ]
     },
     "execution_count": 13,
     "metadata": {},
     "output_type": "execute_result"
    }
   ],
   "source": [
    "test_df.isnull().values.any()\n",
    "train_df.isnull().values.any()"
   ]
  },
  {
   "cell_type": "code",
   "execution_count": 14,
   "metadata": {
    "collapsed": false
   },
   "outputs": [
    {
     "data": {
      "text/html": [
       "<div>\n",
       "<table border=\"1\" class=\"dataframe\">\n",
       "  <thead>\n",
       "    <tr style=\"text-align: right;\">\n",
       "      <th></th>\n",
       "      <th>loan_amnt</th>\n",
       "      <th>mean_fico</th>\n",
       "      <th>dti</th>\n",
       "      <th>emp_length</th>\n",
       "      <th>predictions</th>\n",
       "      <th>accepted</th>\n",
       "    </tr>\n",
       "  </thead>\n",
       "  <tbody>\n",
       "    <tr>\n",
       "      <th>0</th>\n",
       "      <td>15000.0</td>\n",
       "      <td>637.0</td>\n",
       "      <td>63.72</td>\n",
       "      <td>1.0</td>\n",
       "      <td>0</td>\n",
       "      <td>0</td>\n",
       "    </tr>\n",
       "    <tr>\n",
       "      <th>1</th>\n",
       "      <td>2000.0</td>\n",
       "      <td>0.0</td>\n",
       "      <td>-1.00</td>\n",
       "      <td>1.0</td>\n",
       "      <td>0</td>\n",
       "      <td>0</td>\n",
       "    </tr>\n",
       "    <tr>\n",
       "      <th>2</th>\n",
       "      <td>40000.0</td>\n",
       "      <td>686.0</td>\n",
       "      <td>12.55</td>\n",
       "      <td>1.0</td>\n",
       "      <td>0</td>\n",
       "      <td>0</td>\n",
       "    </tr>\n",
       "    <tr>\n",
       "      <th>3</th>\n",
       "      <td>20000.0</td>\n",
       "      <td>745.0</td>\n",
       "      <td>28.85</td>\n",
       "      <td>1.0</td>\n",
       "      <td>0</td>\n",
       "      <td>0</td>\n",
       "    </tr>\n",
       "    <tr>\n",
       "      <th>4</th>\n",
       "      <td>4000.0</td>\n",
       "      <td>720.0</td>\n",
       "      <td>9.00</td>\n",
       "      <td>1.0</td>\n",
       "      <td>0</td>\n",
       "      <td>0</td>\n",
       "    </tr>\n",
       "  </tbody>\n",
       "</table>\n",
       "</div>"
      ],
      "text/plain": [
       "   loan_amnt  mean_fico    dti  emp_length  predictions  accepted\n",
       "0    15000.0      637.0  63.72         1.0            0         0\n",
       "1     2000.0        0.0  -1.00         1.0            0         0\n",
       "2    40000.0      686.0  12.55         1.0            0         0\n",
       "3    20000.0      745.0  28.85         1.0            0         0\n",
       "4     4000.0      720.0   9.00         1.0            0         0"
      ]
     },
     "execution_count": 14,
     "metadata": {},
     "output_type": "execute_result"
    }
   ],
   "source": [
    "## Testing!\n",
    "# put the test data in the same format!\n",
    "testArr = test_df[['loan_amnt','mean_fico','dti','emp_length']]\n",
    "results = rf.predict(testArr)\n",
    "# something I like to do is to add it back to the data frame, so I can compare side-by-side\n",
    "\n",
    "testArr['predictions'] = results\n",
    "testArr['accepted'] = test_df['accepted']\n",
    "\n",
    "testArr.head()"
   ]
  },
  {
   "cell_type": "code",
   "execution_count": 15,
   "metadata": {
    "collapsed": false
   },
   "outputs": [
    {
     "data": {
      "text/plain": [
       "False"
      ]
     },
     "execution_count": 15,
     "metadata": {},
     "output_type": "execute_result"
    }
   ],
   "source": [
    "np.any(np.isnan(testArr))"
   ]
  },
  {
   "cell_type": "code",
   "execution_count": 16,
   "metadata": {
    "collapsed": false
   },
   "outputs": [
    {
     "data": {
      "text/plain": [
       "True"
      ]
     },
     "execution_count": 16,
     "metadata": {},
     "output_type": "execute_result"
    }
   ],
   "source": [
    "np.all(np.isfinite(train_df))"
   ]
  },
  {
   "cell_type": "raw",
   "metadata": {},
   "source": [
    "Sensitivity (recall): the proportion of positive cases that the model correctly identifies as positive.\n",
    "Precision: the proportion of positive predictions that turn out to be true positives."
   ]
  },
  {
   "cell_type": "code",
   "execution_count": 17,
   "metadata": {
    "collapsed": false
   },
   "outputs": [
    {
     "name": "stdout",
     "output_type": "stream",
     "text": [
      "[[544738   9232]\n",
      " [  7469  58478]]\n",
      "Random Forest accuracy: 0.973059296648\n"
     ]
    }
   ],
   "source": [
    "from sklearn.metrics import classification_report,confusion_matrix\n",
    "rf_confusion_mat = confusion_matrix(testArr['accepted'], testArr['predictions'])\n",
    "\n",
    "print(rf_confusion_mat)\n",
    "\n",
    "# Calculate by hand.\n",
    "rf_accuracy = (rf_confusion_mat[0][0] + rf_confusion_mat[1][1]) / len(testArr)\n",
    "print(\"Random Forest accuracy: \" + str(rf_accuracy))\n",
    "\n",
    "# Calculate using the Random Forest package - gives the same result.\n",
    "#rf_acc = rf.score(testArr[['loan_amnt', 'mean_fico', 'dti', 'emp_length']], testArr[['accepted']])"
   ]
  },
  {
   "cell_type": "code",
   "execution_count": 18,
   "metadata": {
    "collapsed": true
   },
   "outputs": [],
   "source": [
    "##NEURAL NETWORK \n",
    "from sklearn.neural_network import MLPClassifier"
   ]
  },
  {
   "cell_type": "code",
   "execution_count": 19,
   "metadata": {
    "collapsed": true
   },
   "outputs": [],
   "source": [
    "mlp = MLPClassifier(hidden_layer_sizes=(30,30,30))"
   ]
  },
  {
   "cell_type": "code",
   "execution_count": 20,
   "metadata": {
    "collapsed": false
   },
   "outputs": [
    {
     "data": {
      "text/plain": [
       "MLPClassifier(activation='relu', alpha=0.0001, batch_size='auto', beta_1=0.9,\n",
       "       beta_2=0.999, early_stopping=False, epsilon=1e-08,\n",
       "       hidden_layer_sizes=(30, 30, 30), learning_rate='constant',\n",
       "       learning_rate_init=0.001, max_iter=200, momentum=0.9,\n",
       "       nesterovs_momentum=True, power_t=0.5, random_state=None,\n",
       "       shuffle=True, solver='adam', tol=0.0001, validation_fraction=0.1,\n",
       "       verbose=False, warm_start=False)"
      ]
     },
     "execution_count": 20,
     "metadata": {},
     "output_type": "execute_result"
    }
   ],
   "source": [
    "mlp.fit(train_df[['loan_amnt', 'mean_fico', 'dti', 'emp_length']], train_df['accepted'])"
   ]
  },
  {
   "cell_type": "code",
   "execution_count": 21,
   "metadata": {
    "collapsed": false
   },
   "outputs": [],
   "source": [
    "nn_predictions = mlp.predict(test_df[['loan_amnt', 'mean_fico', 'dti', 'emp_length']])"
   ]
  },
  {
   "cell_type": "code",
   "execution_count": 22,
   "metadata": {
    "collapsed": false
   },
   "outputs": [
    {
     "name": "stdout",
     "output_type": "stream",
     "text": [
      "[[543905  10065]\n",
      " [ 31303  34644]]\n",
      "Neural network accuracy: 0.933268485942\n"
     ]
    }
   ],
   "source": [
    "from sklearn.metrics import classification_report,confusion_matrix\n",
    "\n",
    "nn_confusion_mat = confusion_matrix(test_df['accepted'], nn_predictions)\n",
    "print(nn_confusion_mat)\n",
    "\n",
    "nn_accuracy = (nn_confusion_mat[0][0] + nn_confusion_mat[1][1]) / len(testArr)\n",
    "print(\"Neural network accuracy: \" + str(nn_accuracy))"
   ]
  },
  {
   "cell_type": "code",
   "execution_count": 23,
   "metadata": {
    "collapsed": false
   },
   "outputs": [
    {
     "name": "stdout",
     "output_type": "stream",
     "text": [
      "             precision    recall  f1-score   support\n",
      "\n",
      "          0       0.95      0.98      0.96    553970\n",
      "          1       0.77      0.53      0.63     65947\n",
      "\n",
      "avg / total       0.93      0.93      0.93    619917\n",
      "\n"
     ]
    }
   ],
   "source": [
    "print(classification_report(test_df['accepted'], nn_predictions))"
   ]
  },
  {
   "cell_type": "code",
   "execution_count": 24,
   "metadata": {
    "collapsed": false
   },
   "outputs": [],
   "source": [
    "from sklearn.metrics import roc_curve, auc\n"
   ]
  },
  {
   "cell_type": "code",
   "execution_count": 29,
   "metadata": {
    "collapsed": false
   },
   "outputs": [
    {
     "data": {
      "text/plain": [
       "SVC(C=1.0, cache_size=200, class_weight=None, coef0=0.0,\n",
       "  decision_function_shape=None, degree=3, gamma='auto', kernel='rbf',\n",
       "  max_iter=-1, probability=False, random_state=None, shrinking=True,\n",
       "  tol=0.001, verbose=False)"
      ]
     },
     "execution_count": 29,
     "metadata": {},
     "output_type": "execute_result"
    }
   ],
   "source": [
    "# SVM (support vector machines) also known as SVN (support vector networks).\n",
    "\n",
    "from sklearn import svm\n",
    "\n",
    "clf = svm.SVC()\n",
    "clf.fit(train_df[['loan_amnt', 'mean_fico', 'dti', 'emp_length']][:10000], train_df['accepted'][:10000]) "
   ]
  },
  {
   "cell_type": "code",
   "execution_count": 31,
   "metadata": {
    "collapsed": true
   },
   "outputs": [],
   "source": [
    "# Predict results.\n",
    "svm_predictions = clf.predict(test_df[['loan_amnt', 'mean_fico', 'dti', 'emp_length']])"
   ]
  },
  {
   "cell_type": "code",
   "execution_count": 32,
   "metadata": {
    "collapsed": false
   },
   "outputs": [
    {
     "name": "stdout",
     "output_type": "stream",
     "text": [
      "[[553698    272]\n",
      " [ 64579   1368]]\n",
      "Support vector machine accuracy: 0.895387608341\n"
     ]
    }
   ],
   "source": [
    "svm_confusion_mat = confusion_matrix(test_df['accepted'], svm_predictions)\n",
    "print(svm_confusion_mat)\n",
    "\n",
    "svm_accuracy = (svm_confusion_mat[0][0] + svm_confusion_mat[1][1]) / len(svm_predictions)\n",
    "print(\"Support vector machine accuracy: \" + str(svm_accuracy))"
   ]
  }
 ],
 "metadata": {
  "anaconda-cloud": {},
  "kernelspec": {
   "display_name": "Python [default]",
   "language": "python",
   "name": "python3"
  },
  "language_info": {
   "codemirror_mode": {
    "name": "ipython",
    "version": 3
   },
   "file_extension": ".py",
   "mimetype": "text/x-python",
   "name": "python",
   "nbconvert_exporter": "python",
   "pygments_lexer": "ipython3",
   "version": "3.5.2"
  }
 },
 "nbformat": 4,
 "nbformat_minor": 2
}
