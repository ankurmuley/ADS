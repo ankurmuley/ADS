{
 "cells": [
  {
   "cell_type": "code",
   "execution_count": 1,
   "metadata": {
    "collapsed": false
   },
   "outputs": [
    {
     "name": "stdout",
     "output_type": "stream",
     "text": [
      "Amount Requested        float64\n",
      "Application Date         object\n",
      "Loan Title               object\n",
      "Risk_Score              float64\n",
      "Debt-To-Income Ratio     object\n",
      "Zip Code                 object\n",
      "State                    object\n",
      "Employment Length        object\n",
      "Policy Code               int64\n",
      "timestamp                 int64\n",
      "dtype: object\n",
      "       Amount Requested    Risk_Score   Policy Code     timestamp\n",
      "count      1.107939e+07  4.676607e+06  1.107939e+07  1.107939e+07\n",
      "mean       1.339154e+04  6.233829e+02  5.542545e-03  1.477929e+09\n",
      "std        1.619671e+04  1.084081e+02  1.051398e-01  2.904828e+06\n",
      "min        0.000000e+00  0.000000e+00  0.000000e+00  1.476812e+09\n",
      "25%        4.500000e+03  5.910000e+02  0.000000e+00  1.476817e+09\n",
      "50%        1.000000e+04  6.400000e+02  0.000000e+00  1.476821e+09\n",
      "75%        2.000000e+04  6.780000e+02  0.000000e+00  1.476829e+09\n",
      "max        1.400000e+06  9.900000e+02  2.000000e+00  1.485553e+09\n",
      "(11079386, 10)\n",
      "<class 'pandas.core.frame.DataFrame'>\n",
      "RangeIndex: 11079386 entries, 0 to 11079385\n",
      "Data columns (total 10 columns):\n",
      "Amount Requested        float64\n",
      "Application Date        object\n",
      "Loan Title              object\n",
      "Risk_Score              float64\n",
      "Debt-To-Income Ratio    object\n",
      "Zip Code                object\n",
      "State                   object\n",
      "Employment Length       object\n",
      "Policy Code             int64\n",
      "timestamp               int64\n",
      "dtypes: float64(2), int64(2), object(6)\n",
      "memory usage: 845.3+ MB\n",
      "None\n",
      "(1107939, 10)\n",
      "<class 'pandas.core.frame.DataFrame'>\n",
      "Int64Index: 1107939 entries, 9065590 to 4958500\n",
      "Data columns (total 10 columns):\n",
      "Amount Requested        1107939 non-null float64\n",
      "Application Date        1107939 non-null object\n",
      "Loan Title              1107922 non-null object\n",
      "Risk_Score              467802 non-null float64\n",
      "Debt-To-Income Ratio    1107939 non-null object\n",
      "Zip Code                1107912 non-null object\n",
      "State                   1107936 non-null object\n",
      "Employment Length       1107939 non-null object\n",
      "Policy Code             1107939 non-null int64\n",
      "timestamp               1107939 non-null int64\n",
      "dtypes: float64(2), int64(2), object(6)\n",
      "memory usage: 93.0+ MB\n",
      "None\n"
     ]
    }
   ],
   "source": [
    "import numpy as np # linear algebra\n",
    "import pandas as pd # data processing, CSV file I/O (e.g. pd.read_csv)\n",
    "import os\n",
    "\n",
    "sample_data = True\n",
    "\n",
    "data_directory = os.path.join('.', 'decline_data')\n",
    "\n",
    "loan_data_path = os.path.join(data_directory, 'Declined_LoanData.csv')\n",
    "loan = pd.read_csv(loan_data_path, low_memory=False, encoding='latin-1')\n",
    "\n",
    "pd.set_option('display.max_columns', len(loan.columns))\n",
    "loan.head(3)\n",
    "\n",
    "pd.reset_option('display.max_columns')\n",
    "\n",
    "# see all loan table column variables datatypes.\n",
    "print(loan.dtypes)\n",
    "\n",
    "# See shape, all columns and statistic values for each columns.\n",
    "print(loan.describe())\n",
    "\n",
    "print(loan.shape)\n",
    "print(loan.info())\n",
    "\n",
    "# If we're sampling, reduce the data set down.\n",
    "if sample_data:\n",
    "    loan = loan.sample(frac=0.1, replace=False, random_state=1234, axis=0)\n",
    "    \n",
    "print(loan.shape)\n",
    "print(loan.info())"
   ]
  },
  {
   "cell_type": "code",
   "execution_count": 2,
   "metadata": {
    "collapsed": false
   },
   "outputs": [
    {
     "name": "stdout",
     "output_type": "stream",
     "text": [
      "9065590     28.77\n",
      "8389960     14.27\n",
      "3245734      1260\n",
      "10030653      100\n",
      "8515327      1.05\n",
      "Name: dti, dtype: object\n",
      "Unique values for emp_length:\n",
      "[' 1 ' '5 ' '6 ' '4 ' '0' '10 ' '2 ' '3 ' '1 ' '8 ' '9 ' '7 ']\n"
     ]
    }
   ],
   "source": [
    "# Rename the columns to match those in the accepted loan data.\n",
    "loan.columns = ['loan_amnt', 'date', 'title', 'mean_fico', 'dti', \n",
    "                'zip_code', 'addr_state', 'emp_length', 'policy_code', 'timestamp']\n",
    "\n",
    "# These are dropped for the same reasons they were dropped in the accepted loan data.\n",
    "loan.drop(['date', 'title', 'zip_code', 'addr_state', 'policy_code', 'timestamp'], axis=1, inplace=True)\n",
    "\n",
    "# Convert dti from string, but only if it isn't already numeric.\n",
    "if loan.dti.dtype == 'float64':\n",
    "    print(\"dti is already numeric, no need to convert it\")\n",
    "\n",
    "elif loan.dti.dtype == 'object':\n",
    "    loan['dti'] = loan['dti'].map(lambda x: str(x).lstrip(' ').rstrip('% '))\n",
    "    print(loan['dti'][0:5])\n",
    "    loan['dti'] = loan['dti'].astype('float64')\n",
    "\n",
    "# We will clean the emp_length column to use it in data exploration.\n",
    "loan['emp_length'] = loan.emp_length.str.replace('+','')\n",
    "loan['emp_length'] = loan.emp_length.str.replace('<','')\n",
    "loan['emp_length'] = loan.emp_length.str.replace('years','')\n",
    "loan['emp_length'] = loan.emp_length.str.replace('year','')\n",
    "loan['emp_length'] = loan.emp_length.str.replace('n/a','0')\n",
    "\n",
    "# Convert emp_length to float.\n",
    "print(\"Unique values for emp_length:\")\n",
    "print(loan.emp_length.unique())\n",
    "\n",
    "loan['emp_length'] = loan['emp_length'].astype('float64')"
   ]
  },
  {
   "cell_type": "code",
   "execution_count": 3,
   "metadata": {
    "collapsed": false
   },
   "outputs": [
    {
     "name": "stdout",
     "output_type": "stream",
     "text": [
      "<class 'pandas.core.frame.DataFrame'>\n",
      "Int64Index: 1107939 entries, 9065590 to 4958500\n",
      "Data columns (total 4 columns):\n",
      "loan_amnt     1107939 non-null float64\n",
      "mean_fico     467802 non-null float64\n",
      "dti           1107939 non-null float64\n",
      "emp_length    1107939 non-null float64\n",
      "dtypes: float64(4)\n",
      "memory usage: 42.3 MB\n"
     ]
    }
   ],
   "source": [
    "loan.info()"
   ]
  },
  {
   "cell_type": "code",
   "execution_count": 4,
   "metadata": {
    "collapsed": false
   },
   "outputs": [
    {
     "data": {
      "text/plain": [
       "Series([], dtype: float64)"
      ]
     },
     "execution_count": 4,
     "metadata": {},
     "output_type": "execute_result"
    }
   ],
   "source": [
    "# Check correlation of the columns.\n",
    "cor = loan.corr()\n",
    "cor.loc[:,:] = np.tril(cor, k=-1) \n",
    "cor = cor.stack()\n",
    "cor[(cor > 0.55) | (cor < -0.55)]"
   ]
  },
  {
   "cell_type": "code",
   "execution_count": 5,
   "metadata": {
    "collapsed": false
   },
   "outputs": [],
   "source": [
    "# save cleaned data to .csv\n",
    "destination_filepath = os.path.join(data_directory, \"Cleaned_RejectedLoanData.csv\")\n",
    "loan.to_csv(destination_filepath, encoding=\"UTF-8\")\n"
   ]
  },
  {
   "cell_type": "code",
   "execution_count": null,
   "metadata": {
    "collapsed": true
   },
   "outputs": [],
   "source": []
  }
 ],
 "metadata": {
  "kernelspec": {
   "display_name": "Python [default]",
   "language": "python",
   "name": "python3"
  },
  "language_info": {
   "codemirror_mode": {
    "name": "ipython",
    "version": 3
   },
   "file_extension": ".py",
   "mimetype": "text/x-python",
   "name": "python",
   "nbconvert_exporter": "python",
   "pygments_lexer": "ipython3",
   "version": "3.5.2"
  }
 },
 "nbformat": 4,
 "nbformat_minor": 2
}
