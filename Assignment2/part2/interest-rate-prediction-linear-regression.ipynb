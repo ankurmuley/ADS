{
 "cells": [
  {
   "cell_type": "markdown",
   "metadata": {},
   "source": [
    "# Linear regression for predicting interest rates\n",
    "\n",
    "This notebook uses all the accepted loans, i.e. no segmenting/clustering."
   ]
  },
  {
   "cell_type": "code",
   "execution_count": 1,
   "metadata": {
    "collapsed": false
   },
   "outputs": [],
   "source": [
    "import matplotlib.pyplot as plt\n",
    "import numpy as np\n",
    "import os\n",
    "import pandas as pd\n",
    "from sklearn import linear_model\n",
    "from sklearn import model_selection\n",
    "from sklearn import preprocessing\n",
    "\n",
    "data_directory = os.path.join('.', 'cleaned_data') \n",
    "\n",
    "cleaned_accepted_data_path = os.path.join(data_directory, 'Cleaned_AcceptedLoanData.csv')"
   ]
  },
  {
   "cell_type": "code",
   "execution_count": 10,
   "metadata": {
    "collapsed": false
   },
   "outputs": [
    {
     "name": "stdout",
     "output_type": "stream",
     "text": [
      "<class 'pandas.core.frame.DataFrame'>\n",
      "RangeIndex: 131893 entries, 0 to 131892\n",
      "Data columns (total 28 columns):\n",
      "loan_amnt                     131893 non-null float64\n",
      "term                          131893 non-null int32\n",
      "int_rate                      131893 non-null float64\n",
      "emp_length                    131893 non-null float64\n",
      "annual_inc                    131893 non-null float64\n",
      "dti                           131893 non-null float64\n",
      "delinq_2yrs                   131893 non-null float64\n",
      "earliest_cr_line              131893 non-null int64\n",
      "inq_last_6mths                131893 non-null float64\n",
      "mths_since_last_delinq        131893 non-null float64\n",
      "pub_rec                       131893 non-null float64\n",
      "revol_bal                     131893 non-null float64\n",
      "revol_util                    131893 non-null float64\n",
      "total_acc                     131893 non-null float64\n",
      "collections_12_mths_ex_med    131893 non-null float64\n",
      "acc_open_past_24mths          131893 non-null float64\n",
      "avg_cur_bal                   131893 non-null float64\n",
      "bc_open_to_buy                131893 non-null float64\n",
      "chargeoff_within_12_mths      131893 non-null float64\n",
      "delinq_amnt                   131893 non-null float64\n",
      "mort_acc                      131893 non-null float64\n",
      "pct_tl_nvr_dlq                131893 non-null float64\n",
      "mean_fico                     131893 non-null float64\n",
      "home_mortgage                 131893 non-null int64\n",
      "home_rent                     131893 non-null int64\n",
      "home_own                      131893 non-null int64\n",
      "individual                    131893 non-null int64\n",
      "income_verified               131893 non-null int64\n",
      "dtypes: float64(21), int32(1), int64(6)\n",
      "memory usage: 27.7 MB\n",
      "None\n"
     ]
    }
   ],
   "source": [
    "accepted_df = pd.read_csv(cleaned_accepted_data_path, low_memory=False, encoding='UTF-8')\n",
    "\n",
    "# Temporarily sample until we have an idea how long this will take.\n",
    "#accepted_df = accepted_df.sample(n=100000, random_state=4321, replace=False, axis=0)\n",
    "#print(accepted_df.info())\n",
    "\n",
    "# Remove non-numeric columns and those we don't care about.\n",
    "accepted_df.drop(['Unnamed: 0', 'purpose', 'issue_d', 'fico_range', 'last_fico_range', 'timestamp'], \n",
    "                 axis=1, inplace=True)\n",
    "\n",
    "# Replace the string 'term' with a number.\n",
    "accepted_df['term'].replace(to_replace='[^0-9]+', value='', inplace=True, regex=True)\n",
    "accepted_df['term'] = accepted_df['term'].astype(int)\n",
    "\n",
    "# Split home ownership values into separate variables:\n",
    "# home_mortgage, home_rent and home_own.\n",
    "accepted_df['home_mortgage'] = 0\n",
    "accepted_df['home_rent'] = 0\n",
    "accepted_df['home_own'] = 0\n",
    "\n",
    "accepted_df.loc[accepted_df['home_ownership']=='MORTGAGE', 'home_mortgage'] = 1\n",
    "accepted_df.loc[accepted_df['home_ownership']=='RENT', 'home_rent'] = 1\n",
    "accepted_df.loc[accepted_df['home_ownership']=='OWN', 'home_own'] = 1\n",
    "\n",
    "# Drop home_ownership now.\n",
    "accepted_df.drop(['home_ownership'], axis=1, inplace=True)\n",
    "\n",
    "# Split application_type into separate variables: individual (0/1)\n",
    "accepted_df['individual'] = 0\n",
    "accepted_df.loc[accepted_df['application_type']=='INDIVIDUAL', 'individual'] = 1\n",
    "\n",
    "# Drop application_type now.\n",
    "accepted_df.drop(['application_type'], axis=1, inplace=True)\n",
    "\n",
    "# Turn verification status into a numeric column.\n",
    "accepted_df['income_verified'] = 1\n",
    "accepted_df.loc[accepted_df['verification_status']=='Not Verified', 'income_verified'] = 0\n",
    "\n",
    "# Drop verification status now.\n",
    "accepted_df.drop(['verification_status', 'verification_status_joint'], axis=1, inplace=True)\n",
    "\n",
    "# Drop the current credit score, since it wasn't available at the time the interest rate was set.\n",
    "accepted_df.drop(['last_mean_fico'], axis=1, inplace=True)\n",
    "\n",
    "print(accepted_df.info())\n",
    "accepted_df.describe()\n",
    "accepted_df.to_csv(\"accepted.csv\")"
   ]
  },
  {
   "cell_type": "code",
   "execution_count": 3,
   "metadata": {
    "collapsed": false
   },
   "outputs": [
    {
     "name": "stdout",
     "output_type": "stream",
     "text": [
      "train_df_x:\n",
      "(65946, 27)\n",
      "train_df_y:\n",
      "(65946, 1)\n",
      "test_df_x:\n",
      "(65947, 27)\n",
      "test_df_y:\n",
      "(65947, 1)\n"
     ]
    }
   ],
   "source": [
    "# Split the loan data: use half for training and half for testing.\n",
    "accepted_df_y = accepted_df[['int_rate']]\n",
    "accepted_df_x = accepted_df.drop(['int_rate'], axis=1)\n",
    "\n",
    "train_df_x, test_df_x, train_df_y, test_df_y = model_selection.train_test_split(\n",
    "    accepted_df_x, accepted_df_y, test_size=0.5, random_state=42)\n",
    "\n",
    "print(\"train_df_x:\")\n",
    "print(train_df_x.shape)\n",
    "\n",
    "print(\"train_df_y:\")\n",
    "print(train_df_y.shape)\n",
    "\n",
    "print(\"test_df_x:\")\n",
    "print(test_df_x.shape)\n",
    "\n",
    "print(\"test_df_y:\")\n",
    "print(test_df_y.shape)\n",
    "\n",
    "# Scale the x values.\n",
    "train_df_x = preprocessing.scale(train_df_x)\n",
    "test_df_x = preprocessing.scale(test_df_x)"
   ]
  },
  {
   "cell_type": "code",
   "execution_count": 9,
   "metadata": {
    "collapsed": false
   },
   "outputs": [
    {
     "name": "stdout",
     "output_type": "stream",
     "text": [
      "Coefficients: \n",
      " [[ 0.46728469  1.70537976 -0.02228413 -0.19746662  0.52047471  0.08683277\n",
      "  -0.19135679  0.83562216 -0.09196297 -0.05546849 -0.24220846  0.3096084\n",
      "  -0.70188735 -0.00500134  0.81432747 -0.08992683 -0.40736942 -0.02532263\n",
      "   0.01828071  0.01658771  0.03755726 -1.20824699 -0.21832669  0.00521397\n",
      "   0.02148635 -0.02096725  0.39450338]]\n",
      "Mean squared error: 11.62\n",
      "Root mean squared error: 3.41\n",
      "Variance score: 0.45\n",
      "Mean Absolute Percent Error: 21.43\n"
     ]
    }
   ],
   "source": [
    "# Create linear regression object.\n",
    "lm = linear_model.LinearRegression()\n",
    "\n",
    "# Train the model.\n",
    "lm.fit(train_df_x, train_df_y)\n",
    "\n",
    "# Print the coefficients.\n",
    "print('Coefficients: \\n', lm.coef_)\n",
    "\n",
    "# Calculate the mean squared error.\n",
    "print(\"Mean squared error: %.2f\" % np.mean((lm.predict(test_df_x) - test_df_y) ** 2))\n",
    "print(\"Root mean squared error: %.2f\" % (np.mean((lm.predict(test_df_x) - test_df_y) ** 2))**0.5)\n",
    "\n",
    "# Print the explained variance score (1 is perfect prediction).\n",
    "print('Variance score: %.2f' % lm.score(test_df_x, test_df_y))\n",
    "\n",
    "print(\"Mean Absolute Percent Error: %.2f\" % (np.mean(np.abs((lm.predict(test_df_x) - test_df_y) / lm.predict(test_df_x))) * 100))"
   ]
  }
 ],
 "metadata": {
  "anaconda-cloud": {},
  "kernelspec": {
   "display_name": "Python [default]",
   "language": "python",
   "name": "python3"
  },
  "language_info": {
   "codemirror_mode": {
    "name": "ipython",
    "version": 3
   },
   "file_extension": ".py",
   "mimetype": "text/x-python",
   "name": "python",
   "nbconvert_exporter": "python",
   "pygments_lexer": "ipython3",
   "version": "3.5.2"
  }
 },
 "nbformat": 4,
 "nbformat_minor": 2
}
