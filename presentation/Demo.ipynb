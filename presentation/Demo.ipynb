{
 "cells": [
  {
   "cell_type": "markdown",
   "metadata": {},
   "source": [
    "**Under package Webtext, see what files are in it.**\n",
    "**Get content in file 'pirates.txt'.**\n",
    "**According to the number of lines for Jack Sparrow and Will Turner, find out who is the real leading man in this movie.**"
   ]
  },
  {
   "cell_type": "code",
   "execution_count": 1,
   "metadata": {
    "collapsed": false
   },
   "outputs": [
    {
     "data": {
      "text/plain": [
       "['firefox.txt',\n",
       " 'grail.txt',\n",
       " 'overheard.txt',\n",
       " 'pirates.txt',\n",
       " 'singles.txt',\n",
       " 'wine.txt']"
      ]
     },
     "execution_count": 1,
     "metadata": {},
     "output_type": "execute_result"
    }
   ],
   "source": [
    "# Import nltk\n",
    "import nltk\n",
    "\n",
    "# Import webtext from nltk.corpus\n",
    "from nltk.corpus import webtext\n",
    "\n",
    "# Display all file list\n",
    "webtext.fileids()"
   ]
  },
  {
   "cell_type": "code",
   "execution_count": 2,
   "metadata": {
    "collapsed": false
   },
   "outputs": [
    {
     "name": "stdout",
     "output_type": "stream",
     "text": [
      "[\"PIRATES OF THE CARRIBEAN: DEAD MAN'S CHEST, by Ted Elliott & Terry Rossio\", '[view looking straight down at rolling swells, sound of wind and thunder, then a low heartbeat]', 'Scene: PORT ROYAL', '[teacups on a table in the rain]', '[sheet music on music stands in the rain]', '[bouquet of white orchids, Elizabeth sitting in the rain holding the bouquet]', '[men rowing, men on horseback, to the sound of thunder]', '[EITC logo on flag blowing in the wind]', '[many rowboats are entering the harbor]', '[Elizabeth sitting alone, at a distance]', '[marines running, kick a door in] ', '[a mule is seen on the left in the barn where the marines enter]', '[Liz looking over her shoulder]', '[Elizabeth drops her bouquet]', '[Will is in manacles, being escorted by red coats]', 'ELIZABETH SWANN: Will...!', '[Elizabeth runs to Will]', 'ELIZABETH SWANN: Why is this happening? ', \"WILL TURNER: I don't know. You look beautiful.\", \"ELIZABETH SWANN: I think it's bad luck for the groom to see the bride before the wedding.\", '[marines cross their long axes to bar Governor from entering]', '[Beckett, in white hair and curls, is standing with Mercer]', \"LORD CUTLER BECKETT: Governor Weatherby Swann, it's been too long.\", 'LORD CUTLER BECKETT: His Lord now... actually.', 'LORD CUTLER BECKETT: In fact, I *do*. Mister Mercer! The warrant for the arrest of one William Turner.', \"LORD CUTLER BECKETT: Oh, is it? That's annoying. My mistake. Arrest her.\", 'ELIZABETH SWANN: On what charges?', 'WILL TURNER: No!', '[Beckett takes another document from Mercer, who is standing with Beckett, craggy face and pony tail]', \"LORD CUTLER BECKETT: Ah-ha! Here's the one for William Turner. And I have another one for a Mister James Norrington. Is he present?\", 'ELIZABETH SWANN: *What are the charges?*', \"LORD CUTLER BECKETT: I don't believe that's the answer to the question I asked.\", 'WILL TURNER: Lord Beckett! In the category of questions *not* answered...', \"ELIZABETH SWANN: We are under the jurisdiction of the King's governor of Port Royal, and you will tell us what we are charged with. \", 'LORD CUTLER BECKETT: For which the punishment, regrettably, is *also* death. Perhaps you remember a certain pirate named Jack Sparrow.', 'ELIZABETH SWANN: *Captain* Jack Sparrow.', 'LORD CUTLER BECKETT: Captain Jack Sparrow. Yes, I thought you might.', 'Scene: BLACK PEARL', '[views of rigging ropes and blocks aboard a ship at night] ', '[Gibbs walks the deck alone at night, singing and drinking from a bottle]', \"GIBBS: Fifteen men on a dead man's chest. Yo ho ho, and a *bottle* of rum. Drink and the devil had done for the rest. Yo ho ho, and a *bottle* of rum. Ha-ha-ha-ha-ha! \", '[a bell tolls, Gibbs is interrupted from his drinking by the sound]', '[Gibbs looks up to see a flock of crows flying in the foggy night sky]', 'Scene: TURKISH PRISON', '[tolling of bells, camera pans to show the crows flying toward a coastal island] ', '[pinnacle-like island off the coast at night, connected to the mainland by thin, lighted bridge]', '[cages with men inside line the bridge]', '[prisoners are being marched across the bridge]', '[a male prisoner with bloody legs is muttering, and is dragged across the bridge by guards]', '[a crow is seen reflected in the eye of one male prisoner in a cage, the crow attacks and pecks his eye out, he screams]']\n"
     ]
    }
   ],
   "source": [
    "# Get raw text of the pirates.txt\n",
    "raw_txt = nltk.corpus.webtext.raw('pirates.txt')\n",
    "\n",
    "# Let's just split the file on lines of text instead\n",
    "better_pirates_sentences = raw_txt.split(\"\\n\")\n",
    "print(better_pirates_sentences[:50])"
   ]
  },
  {
   "cell_type": "code",
   "execution_count": 3,
   "metadata": {
    "collapsed": false
   },
   "outputs": [
    {
     "name": "stdout",
     "output_type": "stream",
     "text": [
      "{'WILL TURNER': 133, 'ELIZABETH SWANN': 93, 'JACK SPARROW': 193}\n"
     ]
    }
   ],
   "source": [
    "\n",
    "# Find all the lines spoken by the main male characters -\n",
    "# and the lead female, just in case she turns out to be the main character!\n",
    "\n",
    "# Dictionary which contains character names an default count of lines as zero\n",
    "leading_man_lines = {'WILL TURNER':0, 'JACK SPARROW': 0, 'ELIZABETH SWANN':0}\n",
    "\n",
    "# For loop to count the number of linkes spoken by each character in the film\n",
    "for s in better_pirates_sentences:\n",
    "    if s.startswith(\"WILL TURNER:\"):\n",
    "        leading_man_lines[\"WILL TURNER\"] = leading_man_lines[\"WILL TURNER\"] + 1\n",
    "    elif s.startswith(\"JACK SPARROW\"):\n",
    "        leading_man_lines[\"JACK SPARROW\"] = leading_man_lines[\"JACK SPARROW\"] + 1\n",
    "    elif s.startswith(\"ELIZABETH SWANN\"):\n",
    "        leading_man_lines[\"ELIZABETH SWANN\"] = leading_man_lines[\"ELIZABETH SWANN\"] + 1\n",
    "\n",
    "# Display the dictionary with character and their number of lines spoken\n",
    "print(leading_man_lines)"
   ]
  },
  {
   "cell_type": "code",
   "execution_count": 4,
   "metadata": {
    "collapsed": false
   },
   "outputs": [
    {
     "name": "stdout",
     "output_type": "stream",
     "text": [
      "Leading man of the movie is:  (193, 'JACK SPARROW')\n"
     ]
    }
   ],
   "source": [
    "# Now reverse the dictonary order of number of lines spoken\n",
    "inverse = [(value, key) for key, value in leading_man_lines.items()]\n",
    "\n",
    "# Display the leading man of the movie\n",
    "print (\"Leading man of the movie is: \", max(inverse))"
   ]
  },
  {
   "cell_type": "markdown",
   "metadata": {},
   "source": [
    "**Under package nps_chat, see what files are in it.**\n",
    "**Find 'user121' and see how many posts he posted in all.**\n",
    "**Find out how many unique user in each age range group. (20s, 30s,...)(Hint: files' name)**"
   ]
  },
  {
   "cell_type": "code",
   "execution_count": 12,
   "metadata": {
    "collapsed": false
   },
   "outputs": [
    {
     "data": {
      "text/plain": [
       "['10-19-20s_706posts.xml',\n",
       " '10-19-30s_705posts.xml',\n",
       " '10-19-40s_686posts.xml',\n",
       " '10-19-adults_706posts.xml',\n",
       " '10-24-40s_706posts.xml',\n",
       " '10-26-teens_706posts.xml',\n",
       " '11-06-adults_706posts.xml',\n",
       " '11-08-20s_705posts.xml',\n",
       " '11-08-40s_706posts.xml',\n",
       " '11-08-adults_705posts.xml',\n",
       " '11-08-teens_706posts.xml',\n",
       " '11-09-20s_706posts.xml',\n",
       " '11-09-40s_706posts.xml',\n",
       " '11-09-adults_706posts.xml',\n",
       " '11-09-teens_706posts.xml']"
      ]
     },
     "execution_count": 12,
     "metadata": {},
     "output_type": "execute_result"
    }
   ],
   "source": [
    "# From nltk.corpus import nps_chat\n",
    "from nltk.corpus import nps_chat\n",
    "\n",
    "# Display files in nps_chat\n",
    "nps_chat.fileids()"
   ]
  },
  {
   "cell_type": "code",
   "execution_count": 13,
   "metadata": {
    "collapsed": false
   },
   "outputs": [
    {
     "name": "stdout",
     "output_type": "stream",
     "text": [
      "[['now', 'im', 'left', 'with', 'this', 'gay', 'name'], [':P'], ...]\n"
     ]
    }
   ],
   "source": [
    "\n",
    "# Read in everything\n",
    "chatroom = nps_chat.posts(nps_chat.fileids())\n",
    "\n",
    "# Display/explore what chatroom contains\n",
    "print(chatroom)"
   ]
  },
  {
   "cell_type": "code",
   "execution_count": 15,
   "metadata": {
    "collapsed": false
   },
   "outputs": [
    {
     "name": "stdout",
     "output_type": "stream",
     "text": [
      "<!-- edited with XMLSpy v2007 sp1 (http://www.altova.com) by Eric Forsyth (Naval Postgraduate School) -->\n",
      "<Session xmlns:xsi=\"http://www.w3.org/2001/XMLSchema-instance\" xsi:noNamespaceSchemaLocation=\"postClassPOSTagset.xsd\">\n",
      "\t<Posts>\n",
      "\t\t<Post class=\"Statement\" user=\"10-19-20sUser7\">now im left with this gay name<terminals>\n",
      "\t\t\t\t<t pos=\"RB\" word=\"now\"/>\n",
      "\t\t\t\t<t pos=\"PRP\" word=\"im\"/>\n",
      "\t\t\t\t<t pos=\"VBD\" word=\"left\"/>\n",
      "\t\t\t\t<t pos=\"IN\" word=\"with\"/>\n",
      "\t\t\t\t<t pos=\"DT\" word=\"this\"/>\n",
      "\t\t\t\t<t pos=\"JJ\" word=\"gay\"/\n"
     ]
    }
   ],
   "source": [
    "# See raw data for nps_chat \n",
    "print(nps_chat.raw('10-19-20s_706posts.xml')[0:500])"
   ]
  },
  {
   "cell_type": "code",
   "execution_count": 16,
   "metadata": {
    "collapsed": false
   },
   "outputs": [
    {
     "name": "stdout",
     "output_type": "stream",
     "text": [
      "[<Element 'Post' at 0x000000A7FAB56EA8>, <Element 'Post' at 0x000000A7FAB75318>, ...]\n"
     ]
    }
   ],
   "source": [
    "# It looks like a html file\n",
    "# See what does the xml_posts() method do?\n",
    "xml_chatroom = nps_chat.xml_posts(nps_chat.fileids())\n",
    "print(xml_chatroom)"
   ]
  },
  {
   "cell_type": "code",
   "execution_count": 17,
   "metadata": {
    "collapsed": false
   },
   "outputs": [
    {
     "name": "stdout",
     "output_type": "stream",
     "text": [
      "\n",
      "Total users are:  10567\n",
      "========================================================================================================================\n",
      "Unique users are:  1377\n"
     ]
    }
   ],
   "source": [
    "# Get list f users\n",
    "all_user_list = [p.get('user') for p in xml_chatroom]\n",
    "print(\"\\nTotal users are: \", len(all_user_list))\n",
    "print(\"========================================================================================================================\")\n",
    "# Get unique list of users\n",
    "unique_user_list = list(set(all_user_list))\n",
    "print(\"Unique users are: \",len(unique_user_list))"
   ]
  },
  {
   "cell_type": "code",
   "execution_count": 18,
   "metadata": {
    "collapsed": false
   },
   "outputs": [
    {
     "name": "stdout",
     "output_type": "stream",
     "text": [
      "Total number of posts of an User121 are: 132\n"
     ]
    }
   ],
   "source": [
    "# Let's find how many posts user121 made\n",
    "user121_posts = [p for p in xml_chatroom if p.get('user').endswith('User121')]\n",
    "print(\"Total number of posts of an User121 are:\", len(user121_posts))"
   ]
  },
  {
   "cell_type": "code",
   "execution_count": 19,
   "metadata": {
    "collapsed": false
   },
   "outputs": [
    {
     "name": "stdout",
     "output_type": "stream",
     "text": [
      "['10-19-20sUser7 is a gay name.', \"don't golf clap me.\", \"i'll thunder clap your ass.\", 'and i dont even know what that means.', 'boo.', 'boo.', 'boo.', 'sounds good to me.', \"I'll take one, please.\", \"don't you have a sharpie?\", 'my chair is too hard.', \"and i don't complain about things being hard very often.\", 'yo, 10-19-20sUser133', 'are you a male?', \"let's talk.\", \"boo, it's a female.\", \"i don't want hot pics of a female, I can look in a mirror.\", 'hi 10-19-20sUser139.', \"you're fucking hot.\", 'I like it when you do it, 10-19-20sUser83', '10-19-20sUser136.. get the hell in my freaking PM box.. I have no fiance!!!!!!!', 'off off?', 'really?', \"wow. twice, I'm impressed.\", 'finger?', \"that's such a DIRTY word.\", '10-19-20sUser6,', 'you can forward the pervs to me.', 'i already wrote what i wanted you to read.', 'so read it.', \"I'll take all that I can get.\", 'what, 10-19-20sUser92.', 'you guys type too much. shut the fuck up.', '10-19-20sUser7', 'i hate you.', 'I am ugly?', 'aww.', 'i feel bad now.', 'i hate you 10-19-20sUser68. does that mean I want you?', 'lets', 'someone wanna find me a cheap flight to spain?', 'i need to go this summer.', \"it's an emergency.\", 'it was me, 10-19-20sUser83', 'Aw, man.', 'i was only kidding.', \"he's a douchebag.\", 'love me.', 'pick me', 'choose me.', '(that was my meredith impression)', \"does anyone want to talk to me on the phone?  I don't charge\", 'pm me for my phone number.', \"dang it. just as i predicted.  no one pm's me.\", \"no it's not 10-19-20sUser12, you shut yo mouth.\", 'guys are idiots.', \"in case you girls didn't know.\", 'for all the early20s.', \"okay, I'm off for a bit.\", 'to calm myself down.', 'a bit.', '10-19-20sUser84.', 'i want cho-co-la-te.', 'near near?', 'PART', 'JOIN', 'umm, 10-19-20sUser83)', \"you're not supposed to be here you're over your 20s.\", 'funny.', '.ACTION has left the room with 10-19-20sUser83.', 'JOIN', 'JOIN', 'PART', 'PART', 'JOIN', 'JOIN', 'hello', '11-08-20sUser20', 'how are ya sweetie', 'hi 11-08-20sUser21', 'that is ok', 'some call me 11-08-20sUser121', 'ok fine fine', 'lol', 'tdr', '!td', 'too many names cant think lol', '!seen 11-08-20sUser196', '.ACTION sits in her corner reading her book.', '!spin', 'no ty', '!20', 'no', '!seen 11-08-20sUser219', 'i agree wtf is they talking about', 'some one kick him out', 'yes you', 'yes', 'hell', 'hello', 'then buy one', '!buy 11-08-20sUser54 a pussy', 'PART', 'JOIN', 'PART', 'JOIN', '16 f hong kong, anyone wanna chat, pm me ;-) ', 'PART', 'JOIN', 'any girls wana chat with 27-m-canada pm me', 'any ladies wana chat with a canadaian', 'were are all the ladies at', '27-m-canada with cam girls pm me', 'any girls out there wana chat pm me', 'JOIN', '18/m pm me if u tryin to chat', '18/m pm me if u tryin to chat', '18/m pm me if u tryin to chat', '18/m pm me if u tryin to chat', '18/m pm me if u tryin to chat', '18/m pm me if u tryin to chat', '18/m pm me if u tryin to chat', '18/m pm me if u tryin to chat', '18/m pm me if u tryin to chat', '18/m pm me if u tryin to chat', '18/m pm me if u tryin to chat', '18/m pm me if u tryin to chat', '18/m pm me if u tryin to chat', 'yea guitar rocker ur kool u lil guitar rocker', '18/m pm me if u tryin to chat', '18/m pm me if u tryin to chat', '18/m pm me if u tryin to chat']\n"
     ]
    }
   ],
   "source": [
    "# And look at them\n",
    "print([p.text for p in user121_posts])\n",
    "\n",
    "# Interesting, 'he' appears to be a girl"
   ]
  },
  {
   "cell_type": "code",
   "execution_count": 20,
   "metadata": {
    "collapsed": false
   },
   "outputs": [
    {
     "name": "stdout",
     "output_type": "stream",
     "text": [
      "\n",
      "Unique users are:  1377\n"
     ]
    }
   ],
   "source": [
    "# Will be easiest to create a function for getting unique users\n",
    "def find_unique_users(file_list):\n",
    "    xml_posts = nps_chat.xml_posts(file_list)\n",
    "    # Get list of users.\n",
    "    unique_user_list = set([p.get('user') for p in xml_posts])\n",
    "    return unique_user_list\n",
    "\n",
    "# Check against the result we got earlier\n",
    "print(\"\\nUnique users are: \", len(find_unique_users(nps_chat.fileids())))"
   ]
  },
  {
   "cell_type": "code",
   "execution_count": 21,
   "metadata": {
    "collapsed": true
   },
   "outputs": [],
   "source": [
    "# Create a function for extracting subsets of the files based on age\n",
    "def find_files_for_age(age):\n",
    "    return set([f for f in nps_chat.fileids() if \"-\" + age in f])"
   ]
  },
  {
   "cell_type": "code",
   "execution_count": 22,
   "metadata": {
    "collapsed": false
   },
   "outputs": [
    {
     "name": "stdout",
     "output_type": "stream",
     "text": [
      "{'11-08-20s_705posts.xml', '11-09-20s_706posts.xml', '10-19-20s_706posts.xml'}\n",
      "{'10-19-30s_705posts.xml'}\n",
      "{'10-19-40s_686posts.xml', '11-08-40s_706posts.xml', '10-24-40s_706posts.xml', '11-09-40s_706posts.xml'}\n",
      "{'10-19-adults_706posts.xml', '11-08-adults_705posts.xml', '11-09-adults_706posts.xml', '11-06-adults_706posts.xml'}\n",
      "{'11-09-teens_706posts.xml', '10-26-teens_706posts.xml', '11-08-teens_706posts.xml'}\n"
     ]
    }
   ],
   "source": [
    "# Now answer the question.\n",
    "age_20s_files = find_files_for_age(\"20s\")\n",
    "age_30s_files = find_files_for_age(\"30s\")\n",
    "age_40s_files = find_files_for_age(\"40s\")\n",
    "age_adult_files = find_files_for_age(\"adults\")\n",
    "age_teen_files = find_files_for_age(\"teens\")\n",
    "\n",
    "# Display list of files for each age group\n",
    "print(age_20s_files)\n",
    "print(age_30s_files)\n",
    "print(age_40s_files)\n",
    "print(age_adult_files)\n",
    "print(age_teen_files)"
   ]
  },
  {
   "cell_type": "code",
   "execution_count": 23,
   "metadata": {
    "collapsed": false
   },
   "outputs": [
    {
     "name": "stdout",
     "output_type": "stream",
     "text": [
      "[{'Files': 3, 'Unique Users': 305, 'Age': '20s'}, {'Files': 1, 'Unique Users': 44, 'Age': '30s'}, {'Files': 4, 'Unique Users': 228, 'Age': '40s'}, {'Files': 4, 'Unique Users': 357, 'Age': 'adults'}, {'Files': 3, 'Unique Users': 443, 'Age': 'teens'}]\n"
     ]
    }
   ],
   "source": [
    "# Create a list of objects, each storing the number of files and unique users for an age group\n",
    "result_list = []\n",
    "ages = [\"20s\", \"30s\", \"40s\", \"adults\", \"teens\"]\n",
    "for age in ages:\n",
    "    filelist = find_files_for_age(age)\n",
    "    unique_users = find_unique_users(filelist)\n",
    "    result_list.append({ \"Age\":age, \"Files\": len(filelist), \"Unique Users\":len(unique_users)})\n",
    "\n",
    "# Display the list with the number of files and unique users for an age group\n",
    "print(result_list)"
   ]
  },
  {
   "cell_type": "code",
   "execution_count": 24,
   "metadata": {
    "collapsed": false
   },
   "outputs": [
    {
     "name": "stdout",
     "output_type": "stream",
     "text": [
      "      Age  Files  Unique Users\n",
      "4   teens      3           443\n",
      "3  adults      4           357\n",
      "0     20s      3           305\n",
      "2     40s      4           228\n",
      "1     30s      1            44\n"
     ]
    }
   ],
   "source": [
    "# Import pandas as pd\n",
    "import pandas as pd\n",
    "\n",
    "result = pd.DataFrame(result_list, columns=[\"Age\", \"Files\", \"Unique Users\"])\n",
    "#print(result)\n",
    "\n",
    "# Order them by number of unique users\n",
    "sorted_result = result.sort_values(by=\"Unique Users\", ascending=False)\n",
    "print(sorted_result)"
   ]
  }
 ],
 "metadata": {
  "anaconda-cloud": {},
  "kernelspec": {
   "display_name": "Python [conda root]",
   "language": "python",
   "name": "conda-root-py"
  },
  "language_info": {
   "codemirror_mode": {
    "name": "ipython",
    "version": 3
   },
   "file_extension": ".py",
   "mimetype": "text/x-python",
   "name": "python",
   "nbconvert_exporter": "python",
   "pygments_lexer": "ipython3",
   "version": "3.5.2"
  }
 },
 "nbformat": 4,
 "nbformat_minor": 1
}
