{
 "cells": [
  {
   "cell_type": "code",
   "execution_count": 43,
   "metadata": {
    "collapsed": false
   },
   "outputs": [],
   "source": [
    "from gensim.models import word2vec\n",
    "import logging"
   ]
  },
  {
   "cell_type": "code",
   "execution_count": 44,
   "metadata": {
    "collapsed": false
   },
   "outputs": [],
   "source": [
    "logging.basicConfig(format='%(asctime)s : %(levelname)s : %(message)s', level=logging.INFO)\n",
    "sentences = word2vec.Text8Corpus('text8')"
   ]
  },
  {
   "cell_type": "code",
   "execution_count": 83,
   "metadata": {
    "collapsed": false,
    "scrolled": true
   },
   "outputs": [
    {
     "name": "stderr",
     "output_type": "stream",
     "text": [
      "2017-04-08 08:53:32,332 : INFO : collecting all words and their counts\n",
      "2017-04-08 08:53:32,333 : INFO : PROGRESS: at sentence #0, processed 0 words, keeping 0 word types\n",
      "2017-04-08 08:53:32,386 : INFO : PROGRESS: at sentence #10000, processed 230117 words, keeping 19001 word types\n",
      "2017-04-08 08:53:32,439 : INFO : PROGRESS: at sentence #20000, processed 462793 words, keeping 27347 word types\n",
      "2017-04-08 08:53:32,490 : INFO : PROGRESS: at sentence #30000, processed 697206 words, keeping 33606 word types\n",
      "2017-04-08 08:53:32,503 : INFO : collected 34544 word types from a corpus of 738419 raw words and 31783 sentences\n",
      "2017-04-08 08:53:32,504 : INFO : Loading a fresh vocabulary\n",
      "2017-04-08 08:53:32,617 : INFO : min_count=5 retains 9348 unique words (27% of original 34544, drops 25196)\n",
      "2017-04-08 08:53:32,618 : INFO : min_count=5 leaves 697355 word corpus (94% of original 738419, drops 41064)\n",
      "2017-04-08 08:53:32,671 : INFO : deleting the raw counts dictionary of 34544 items\n",
      "2017-04-08 08:53:32,673 : INFO : sample=0.001 downsamples 45 most-common words\n",
      "2017-04-08 08:53:32,674 : INFO : downsampling leaves estimated 476414 word corpus (68.3% of prior 697355)\n",
      "2017-04-08 08:53:32,675 : INFO : estimated required memory for 9348 words and 100 dimensions: 12152400 bytes\n",
      "2017-04-08 08:53:32,717 : INFO : resetting layer weights\n",
      "2017-04-08 08:53:32,872 : INFO : training model with 4 workers on 9348 vocabulary and 100 features, using sg=0 hs=0 sample=0.001 negative=5 window=5\n",
      "2017-04-08 08:53:32,873 : INFO : expecting 31783 sentences, matching count from corpus used for vocabulary survey\n",
      "2017-04-08 08:53:33,883 : INFO : PROGRESS: at 53.62% examples, 1271401 words/s, in_qsize 8, out_qsize 0\n",
      "2017-04-08 08:53:34,787 : INFO : worker thread finished; awaiting finish of 3 more threads\n",
      "2017-04-08 08:53:34,791 : INFO : worker thread finished; awaiting finish of 2 more threads\n",
      "2017-04-08 08:53:34,796 : INFO : worker thread finished; awaiting finish of 1 more threads\n",
      "2017-04-08 08:53:34,802 : INFO : worker thread finished; awaiting finish of 0 more threads\n",
      "2017-04-08 08:53:34,803 : INFO : training on 3692095 raw words (2381772 effective words) took 1.9s, 1238914 effective words/s\n"
     ]
    }
   ],
   "source": [
    "model = Word2Vec(list2, size=100, window=5, min_count=5, workers=4)\n"
   ]
  },
  {
   "cell_type": "code",
   "execution_count": 50,
   "metadata": {
    "collapsed": false
   },
   "outputs": [
    {
     "data": {
      "text/plain": [
       "'C:\\\\Users\\\\ankur'"
      ]
     },
     "execution_count": 50,
     "metadata": {},
     "output_type": "execute_result"
    }
   ],
   "source": [
    "import os\n",
    "os.getcwd()"
   ]
  },
  {
   "cell_type": "code",
   "execution_count": 51,
   "metadata": {
    "collapsed": true
   },
   "outputs": [],
   "source": [
    "import pandas as pd\n",
    "df=pd.read_csv('movie_metadata.csv')"
   ]
  },
  {
   "cell_type": "code",
   "execution_count": 55,
   "metadata": {
    "collapsed": true
   },
   "outputs": [],
   "source": [
    "import glob"
   ]
  },
  {
   "cell_type": "code",
   "execution_count": 79,
   "metadata": {
    "collapsed": false,
    "scrolled": true
   },
   "outputs": [],
   "source": [
    "for fol in ['pos','neg']:\n",
    "    allFiles = glob.glob('imdb_data/'+fol + \"/*.txt\")\n",
    "    frame = pd.DataFrame()\n",
    "    list_ = []\n",
    "    for file_ in allFiles:\n",
    "        with open(file_,'r') as f:\n",
    "            list_ += f.readlines()\n",
    "            "
   ]
  },
  {
   "cell_type": "code",
   "execution_count": 81,
   "metadata": {
    "collapsed": false
   },
   "outputs": [],
   "source": [
    "list2=[i.split(' ') for i in list_]"
   ]
  },
  {
   "cell_type": "code",
   "execution_count": 84,
   "metadata": {
    "collapsed": false
   },
   "outputs": [
    {
     "name": "stderr",
     "output_type": "stream",
     "text": [
      "2017-04-08 08:54:52,178 : INFO : precomputing L2-norms of word weight vectors\n"
     ]
    },
    {
     "data": {
      "text/plain": [
       "[('queen', 0.9674696326255798)]"
      ]
     },
     "execution_count": 84,
     "metadata": {},
     "output_type": "execute_result"
    }
   ],
   "source": [
    "model.most_similar(positive=['woman', 'king'], negative=['man'], topn=1)"
   ]
  },
  {
   "cell_type": "code",
   "execution_count": 85,
   "metadata": {
    "collapsed": false
   },
   "outputs": [
    {
     "data": {
      "text/plain": [
       "'C:\\\\Users\\\\ankur'"
      ]
     },
     "execution_count": 85,
     "metadata": {},
     "output_type": "execute_result"
    }
   ],
   "source": [
    "\n"
   ]
  },
  {
   "cell_type": "code",
   "execution_count": null,
   "metadata": {
    "collapsed": true
   },
   "outputs": [],
   "source": []
  }
 ],
 "metadata": {
  "anaconda-cloud": {},
  "kernelspec": {
   "display_name": "Python [default]",
   "language": "python",
   "name": "python3"
  },
  "language_info": {
   "codemirror_mode": {
    "name": "ipython",
    "version": 3
   },
   "file_extension": ".py",
   "mimetype": "text/x-python",
   "name": "python",
   "nbconvert_exporter": "python",
   "pygments_lexer": "ipython3",
   "version": "3.5.2"
  }
 },
 "nbformat": 4,
 "nbformat_minor": 1
}
