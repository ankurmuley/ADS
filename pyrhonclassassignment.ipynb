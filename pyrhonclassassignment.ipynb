{
 "cells": [
  {
   "cell_type": "code",
   "execution_count": 14,
   "metadata": {
    "collapsed": false
   },
   "outputs": [
    {
     "name": "stdout",
     "output_type": "stream",
     "text": [
      "hello\n"
     ]
    }
   ],
   "source": [
    "2+2\n",
    "print('hello')"
   ]
  },
  {
   "cell_type": "code",
   "execution_count": 16,
   "metadata": {
    "collapsed": false
   },
   "outputs": [
    {
     "name": "stdout",
     "output_type": "stream",
     "text": [
      "    No   GPA  Years of work experience  Latest salary (per year)  \\\n",
      "0    1  3.50                       2.5                     45000   \n",
      "1    3  3.80                       1.0                     65000   \n",
      "2    4  3.80                       2.0                     85000   \n",
      "3    5  3.41                       1.5                     10000   \n",
      "4    6  3.33                       5.0                     70000   \n",
      "5    7  3.52                       2.5                     27000   \n",
      "6    8  3.50                       2.0                     40000   \n",
      "7    9  3.50                       5.0                     75000   \n",
      "8   10  3.60                       2.5                     65000   \n",
      "9   11  3.20                       4.0                     62000   \n",
      "10  12  3.50                       2.0                     60000   \n",
      "11  13  3.67                       1.8                     60000   \n",
      "12  14  3.50                       2.0                     60000   \n",
      "13  15  3.47                       2.5                     70000   \n",
      "14  16  3.06                       1.3                     40000   \n",
      "15  17  3.27                       2.0                     60000   \n",
      "16  18  3.53                       4.0                     50000   \n",
      "17  19  4.00                       4.0                     50000   \n",
      "18  20  3.40                       1.0                     30000   \n",
      "19  21  3.54                       1.0                     40000   \n",
      "20  22  3.50                       2.0                     75000   \n",
      "21  23  3.50                       4.0                     50000   \n",
      "22  24  3.40                       3.0                     50000   \n",
      "23  26  3.30                       4.0                     65000   \n",
      "24  27  3.90                       6.0                     90000   \n",
      "25  28  3.17                       1.0                     50000   \n",
      "26  29  3.48                       3.5                     60000   \n",
      "27  30  3.93                       4.0                     43000   \n",
      "28  31  3.43                       4.0                     60000   \n",
      "29  32  3.33                       5.0                      5000   \n",
      "30  33  3.60                       1.5                     60000   \n",
      "31  34  3.80                       3.0                     65000   \n",
      "32  35  3.50                       3.0                     65000   \n",
      "33  36  3.39                       2.0                     60000   \n",
      "\n",
      "    Highest GPA   Lowest GPA Coops/Internships (YN)  \\\n",
      "0           3.50        3.50                      N   \n",
      "1           3.60        3.00                      Y   \n",
      "2           4.00        3.60                      Y   \n",
      "3           3.41        3.33                      N   \n",
      "4           3.67        3.00                      Y   \n",
      "5           3.58        3.52                      N   \n",
      "6           3.70        3.30                      N   \n",
      "7           3.53        3.30                      Y   \n",
      "8           3.90        3.10                      Y   \n",
      "9           3.80        3.00                      N   \n",
      "10          3.50        3.50                      N   \n",
      "11          4.00        3.00                      N   \n",
      "12          3.70        3.30                      y   \n",
      "13          3.64        3.37                      Y   \n",
      "14          3.64        2.67                      Y   \n",
      "15          4.00        3.00                      Y   \n",
      "16          4.00        3.30                      N   \n",
      "17          4.00        4.00                      Y   \n",
      "18          3.60        3.10                      N   \n",
      "19          4.00        3.42                      Y   \n",
      "20          4.00        3.00                      Y   \n",
      "21          3.80        3.20                      Y   \n",
      "22          3.80        3.20                      Y   \n",
      "23          4.00        3.65                      Y   \n",
      "24          4.00        3.80                      Y   \n",
      "25          3.30        3.00                      N   \n",
      "26          4.00        3.33                      Y   \n",
      "27          4.00        3.28                      Y   \n",
      "28          3.50        3.30                      Y   \n",
      "29          3.66        3.00                      Y   \n",
      "30          3.70        3.40                      Y   \n",
      "31          3.80        3.50                      Y   \n",
      "32          4.00        3.60                      Y   \n",
      "33          3.80        3.20                      Y   \n",
      "\n",
      "    Number of contacts on Linkedin  Expected Salary after graduation  \n",
      "0                              250                             90000  \n",
      "1                              400                            100000  \n",
      "2                              500                             90000  \n",
      "3                              365                            100000  \n",
      "4                              400                            100000  \n",
      "5                              230                             85000  \n",
      "6                              250                             90000  \n",
      "7                              260                            100000  \n",
      "8                              250                            110000  \n",
      "9                              525                            105000  \n",
      "10                             400                             85000  \n",
      "11                             920                            140000  \n",
      "12                             300                             90000  \n",
      "13                             310                             95000  \n",
      "14                             550                            120000  \n",
      "15                             350                            100000  \n",
      "16                             600                             88000  \n",
      "17                             500                            130000  \n",
      "18                             500                             80000  \n",
      "19                             650                             95000  \n",
      "20                             515                             80000  \n",
      "21                             350                            110000  \n",
      "22                             301                             90000  \n",
      "23                             700                            100000  \n",
      "24                             809                            120000  \n",
      "25                             258                            100000  \n",
      "26                             350                            100000  \n",
      "27                             900                            100000  \n",
      "28                             220                            110000  \n",
      "29                             183                            100000  \n",
      "30                             340                            100000  \n",
      "31                             800                             80000  \n",
      "32                             400                             80000  \n",
      "33                             500                             90000  \n"
     ]
    }
   ],
   "source": [
    "import pandas as pd\n",
    "sc =pd.read_csv(\"C:\\Study Material\\INFO -ADS\\R\\workdirectory\\ClassData Sheet.csv\")\n",
    "print(sc)"
   ]
  },
  {
   "cell_type": "code",
   "execution_count": 32,
   "metadata": {
    "collapsed": false
   },
   "outputs": [
    {
     "name": "stdout",
     "output_type": "stream",
     "text": [
      "      No  Years of work experience  Latest salary (per year)  Highest GPA   \\\n",
      "GPA                                                                          \n",
      "3.50   1                       2.5                     45000          3.50   \n",
      "3.80   3                       1.0                     65000          3.60   \n",
      "3.80   4                       2.0                     85000          4.00   \n",
      "3.41   5                       1.5                     10000          3.41   \n",
      "3.33   6                       5.0                     70000          3.67   \n",
      "3.52   7                       2.5                     27000          3.58   \n",
      "3.50   8                       2.0                     40000          3.70   \n",
      "3.50   9                       5.0                     75000          3.53   \n",
      "3.60  10                       2.5                     65000          3.90   \n",
      "3.20  11                       4.0                     62000          3.80   \n",
      "3.50  12                       2.0                     60000          3.50   \n",
      "3.67  13                       1.8                     60000          4.00   \n",
      "3.50  14                       2.0                     60000          3.70   \n",
      "3.47  15                       2.5                     70000          3.64   \n",
      "3.06  16                       1.3                     40000          3.64   \n",
      "3.27  17                       2.0                     60000          4.00   \n",
      "3.53  18                       4.0                     50000          4.00   \n",
      "4.00  19                       4.0                     50000          4.00   \n",
      "3.40  20                       1.0                     30000          3.60   \n",
      "3.54  21                       1.0                     40000          4.00   \n",
      "3.50  22                       2.0                     75000          4.00   \n",
      "3.50  23                       4.0                     50000          3.80   \n",
      "3.40  24                       3.0                     50000          3.80   \n",
      "3.30  26                       4.0                     65000          4.00   \n",
      "3.90  27                       6.0                     90000          4.00   \n",
      "3.17  28                       1.0                     50000          3.30   \n",
      "3.48  29                       3.5                     60000          4.00   \n",
      "3.93  30                       4.0                     43000          4.00   \n",
      "3.43  31                       4.0                     60000          3.50   \n",
      "3.33  32                       5.0                      5000          3.66   \n",
      "3.60  33                       1.5                     60000          3.70   \n",
      "3.80  34                       3.0                     65000          3.80   \n",
      "3.50  35                       3.0                     65000          4.00   \n",
      "3.39  36                       2.0                     60000          3.80   \n",
      "\n",
      "      Lowest GPA Coops/Internships (YN)  Number of contacts on Linkedin  \\\n",
      "GPA                                                                       \n",
      "3.50        3.50                      N                             250   \n",
      "3.80        3.00                      Y                             400   \n",
      "3.80        3.60                      Y                             500   \n",
      "3.41        3.33                      N                             365   \n",
      "3.33        3.00                      Y                             400   \n",
      "3.52        3.52                      N                             230   \n",
      "3.50        3.30                      N                             250   \n",
      "3.50        3.30                      Y                             260   \n",
      "3.60        3.10                      Y                             250   \n",
      "3.20        3.00                      N                             525   \n",
      "3.50        3.50                      N                             400   \n",
      "3.67        3.00                      N                             920   \n",
      "3.50        3.30                      y                             300   \n",
      "3.47        3.37                      Y                             310   \n",
      "3.06        2.67                      Y                             550   \n",
      "3.27        3.00                      Y                             350   \n",
      "3.53        3.30                      N                             600   \n",
      "4.00        4.00                      Y                             500   \n",
      "3.40        3.10                      N                             500   \n",
      "3.54        3.42                      Y                             650   \n",
      "3.50        3.00                      Y                             515   \n",
      "3.50        3.20                      Y                             350   \n",
      "3.40        3.20                      Y                             301   \n",
      "3.30        3.65                      Y                             700   \n",
      "3.90        3.80                      Y                             809   \n",
      "3.17        3.00                      N                             258   \n",
      "3.48        3.33                      Y                             350   \n",
      "3.93        3.28                      Y                             900   \n",
      "3.43        3.30                      Y                             220   \n",
      "3.33        3.00                      Y                             183   \n",
      "3.60        3.40                      Y                             340   \n",
      "3.80        3.50                      Y                             800   \n",
      "3.50        3.60                      Y                             400   \n",
      "3.39        3.20                      Y                             500   \n",
      "\n",
      "      Expected Salary after graduation  \n",
      "GPA                                     \n",
      "3.50                             90000  \n",
      "3.80                            100000  \n",
      "3.80                             90000  \n",
      "3.41                            100000  \n",
      "3.33                            100000  \n",
      "3.52                             85000  \n",
      "3.50                             90000  \n",
      "3.50                            100000  \n",
      "3.60                            110000  \n",
      "3.20                            105000  \n",
      "3.50                             85000  \n",
      "3.67                            140000  \n",
      "3.50                             90000  \n",
      "3.47                             95000  \n",
      "3.06                            120000  \n",
      "3.27                            100000  \n",
      "3.53                             88000  \n",
      "4.00                            130000  \n",
      "3.40                             80000  \n",
      "3.54                             95000  \n",
      "3.50                             80000  \n",
      "3.50                            110000  \n",
      "3.40                             90000  \n",
      "3.30                            100000  \n",
      "3.90                            120000  \n",
      "3.17                            100000  \n",
      "3.48                            100000  \n",
      "3.93                            100000  \n",
      "3.43                            110000  \n",
      "3.33                            100000  \n",
      "3.60                            100000  \n",
      "3.80                             80000  \n",
      "3.50                             80000  \n",
      "3.39                             90000  \n"
     ]
    }
   ],
   "source": [
    "\n",
    "sc1=sc.set_index(\"GPA\")\n",
    "print(sc1)"
   ]
  },
  {
   "cell_type": "code",
   "execution_count": 37,
   "metadata": {
    "collapsed": false
   },
   "outputs": [
    {
     "data": {
      "text/plain": [
       "No                                    int64\n",
       "GPA                                 float64\n",
       "Years of work experience            float64\n",
       "Latest salary (per year)              int64\n",
       "Highest GPA                         float64\n",
       "Lowest GPA                          float64\n",
       "Coops/Internships (YN)               object\n",
       "Number of contacts on Linkedin        int64\n",
       "Expected Salary after graduation      int64\n",
       "dtype: object"
      ]
     },
     "execution_count": 37,
     "metadata": {},
     "output_type": "execute_result"
    }
   ],
   "source": [
    "sc.dtypes"
   ]
  },
  {
   "cell_type": "code",
   "execution_count": 38,
   "metadata": {
    "collapsed": false
   },
   "outputs": [
    {
     "name": "stdout",
     "output_type": "stream",
     "text": [
      "<class 'pandas.core.frame.DataFrame'>\n",
      "RangeIndex: 34 entries, 0 to 33\n",
      "Data columns (total 9 columns):\n",
      "No                                  34 non-null int64\n",
      "GPA                                 34 non-null float64\n",
      "Years of work experience            34 non-null float64\n",
      "Latest salary (per year)            34 non-null int64\n",
      "Highest GPA                         34 non-null float64\n",
      "Lowest GPA                          34 non-null float64\n",
      "Coops/Internships (YN)              34 non-null object\n",
      "Number of contacts on Linkedin      34 non-null int64\n",
      "Expected Salary after graduation    34 non-null int64\n",
      "dtypes: float64(4), int64(4), object(1)\n",
      "memory usage: 2.5+ KB\n"
     ]
    }
   ],
   "source": [
    "sc.info()"
   ]
  },
  {
   "cell_type": "code",
   "execution_count": 34,
   "metadata": {
    "collapsed": false
   },
   "outputs": [
    {
     "data": {
      "text/html": [
       "<div>\n",
       "<table border=\"1\" class=\"dataframe\">\n",
       "  <thead>\n",
       "    <tr style=\"text-align: right;\">\n",
       "      <th></th>\n",
       "      <th>No</th>\n",
       "      <th>GPA</th>\n",
       "      <th>Years of work experience</th>\n",
       "      <th>Latest salary (per year)</th>\n",
       "      <th>Highest GPA</th>\n",
       "      <th>Lowest GPA</th>\n",
       "      <th>Number of contacts on Linkedin</th>\n",
       "      <th>Expected Salary after graduation</th>\n",
       "    </tr>\n",
       "  </thead>\n",
       "  <tbody>\n",
       "    <tr>\n",
       "      <th>count</th>\n",
       "      <td>34.000000</td>\n",
       "      <td>34.000000</td>\n",
       "      <td>34.000000</td>\n",
       "      <td>34.000000</td>\n",
       "      <td>34.000000</td>\n",
       "      <td>34.000000</td>\n",
       "      <td>34.000000</td>\n",
       "      <td>34.000000</td>\n",
       "    </tr>\n",
       "    <tr>\n",
       "      <th>mean</th>\n",
       "      <td>18.794118</td>\n",
       "      <td>3.509706</td>\n",
       "      <td>2.811765</td>\n",
       "      <td>54764.705882</td>\n",
       "      <td>3.768529</td>\n",
       "      <td>3.287353</td>\n",
       "      <td>445.176471</td>\n",
       "      <td>98617.647059</td>\n",
       "    </tr>\n",
       "    <tr>\n",
       "      <th>std</th>\n",
       "      <td>10.397492</td>\n",
       "      <td>0.213421</td>\n",
       "      <td>1.346998</td>\n",
       "      <td>18340.316285</td>\n",
       "      <td>0.209431</td>\n",
       "      <td>0.273244</td>\n",
       "      <td>199.849863</td>\n",
       "      <td>13930.595728</td>\n",
       "    </tr>\n",
       "    <tr>\n",
       "      <th>min</th>\n",
       "      <td>1.000000</td>\n",
       "      <td>3.060000</td>\n",
       "      <td>1.000000</td>\n",
       "      <td>5000.000000</td>\n",
       "      <td>3.300000</td>\n",
       "      <td>2.670000</td>\n",
       "      <td>183.000000</td>\n",
       "      <td>80000.000000</td>\n",
       "    </tr>\n",
       "    <tr>\n",
       "      <th>25%</th>\n",
       "      <td>10.250000</td>\n",
       "      <td>3.400000</td>\n",
       "      <td>2.000000</td>\n",
       "      <td>46250.000000</td>\n",
       "      <td>3.610000</td>\n",
       "      <td>3.025000</td>\n",
       "      <td>300.250000</td>\n",
       "      <td>90000.000000</td>\n",
       "    </tr>\n",
       "    <tr>\n",
       "      <th>50%</th>\n",
       "      <td>18.500000</td>\n",
       "      <td>3.500000</td>\n",
       "      <td>2.500000</td>\n",
       "      <td>60000.000000</td>\n",
       "      <td>3.800000</td>\n",
       "      <td>3.300000</td>\n",
       "      <td>400.000000</td>\n",
       "      <td>100000.000000</td>\n",
       "    </tr>\n",
       "    <tr>\n",
       "      <th>75%</th>\n",
       "      <td>27.750000</td>\n",
       "      <td>3.585000</td>\n",
       "      <td>4.000000</td>\n",
       "      <td>65000.000000</td>\n",
       "      <td>4.000000</td>\n",
       "      <td>3.480000</td>\n",
       "      <td>522.500000</td>\n",
       "      <td>100000.000000</td>\n",
       "    </tr>\n",
       "    <tr>\n",
       "      <th>max</th>\n",
       "      <td>36.000000</td>\n",
       "      <td>4.000000</td>\n",
       "      <td>6.000000</td>\n",
       "      <td>90000.000000</td>\n",
       "      <td>4.000000</td>\n",
       "      <td>4.000000</td>\n",
       "      <td>920.000000</td>\n",
       "      <td>140000.000000</td>\n",
       "    </tr>\n",
       "  </tbody>\n",
       "</table>\n",
       "</div>"
      ],
      "text/plain": [
       "              No        GPA  Years of work experience  \\\n",
       "count  34.000000  34.000000                 34.000000   \n",
       "mean   18.794118   3.509706                  2.811765   \n",
       "std    10.397492   0.213421                  1.346998   \n",
       "min     1.000000   3.060000                  1.000000   \n",
       "25%    10.250000   3.400000                  2.000000   \n",
       "50%    18.500000   3.500000                  2.500000   \n",
       "75%    27.750000   3.585000                  4.000000   \n",
       "max    36.000000   4.000000                  6.000000   \n",
       "\n",
       "       Latest salary (per year)  Highest GPA   Lowest GPA  \\\n",
       "count                 34.000000     34.000000   34.000000   \n",
       "mean               54764.705882      3.768529    3.287353   \n",
       "std                18340.316285      0.209431    0.273244   \n",
       "min                 5000.000000      3.300000    2.670000   \n",
       "25%                46250.000000      3.610000    3.025000   \n",
       "50%                60000.000000      3.800000    3.300000   \n",
       "75%                65000.000000      4.000000    3.480000   \n",
       "max                90000.000000      4.000000    4.000000   \n",
       "\n",
       "       Number of contacts on Linkedin  Expected Salary after graduation  \n",
       "count                       34.000000                         34.000000  \n",
       "mean                       445.176471                      98617.647059  \n",
       "std                        199.849863                      13930.595728  \n",
       "min                        183.000000                      80000.000000  \n",
       "25%                        300.250000                      90000.000000  \n",
       "50%                        400.000000                     100000.000000  \n",
       "75%                        522.500000                     100000.000000  \n",
       "max                        920.000000                     140000.000000  "
      ]
     },
     "execution_count": 34,
     "metadata": {},
     "output_type": "execute_result"
    }
   ],
   "source": [
    "sc.describe()"
   ]
  },
  {
   "cell_type": "code",
   "execution_count": 40,
   "metadata": {
    "collapsed": false
   },
   "outputs": [],
   "source": [
    "sc1=sc.set_index(\"No\")"
   ]
  },
  {
   "cell_type": "code",
   "execution_count": 44,
   "metadata": {
    "collapsed": false
   },
   "outputs": [],
   "source": [
    "sc2=sc1.loc[1:36,\"GPA\":\"GPA\"]"
   ]
  },
  {
   "cell_type": "code",
   "execution_count": 45,
   "metadata": {
    "collapsed": false
   },
   "outputs": [
    {
     "name": "stdout",
     "output_type": "stream",
     "text": [
      "     GPA\n",
      "No      \n",
      "1   3.50\n",
      "3   3.80\n",
      "4   3.80\n",
      "5   3.41\n",
      "6   3.33\n",
      "7   3.52\n",
      "8   3.50\n",
      "9   3.50\n",
      "10  3.60\n",
      "11  3.20\n",
      "12  3.50\n",
      "13  3.67\n",
      "14  3.50\n",
      "15  3.47\n",
      "16  3.06\n",
      "17  3.27\n",
      "18  3.53\n",
      "19  4.00\n",
      "20  3.40\n",
      "21  3.54\n",
      "22  3.50\n",
      "23  3.50\n",
      "24  3.40\n",
      "26  3.30\n",
      "27  3.90\n",
      "28  3.17\n",
      "29  3.48\n",
      "30  3.93\n",
      "31  3.43\n",
      "32  3.33\n",
      "33  3.60\n",
      "34  3.80\n",
      "35  3.50\n",
      "36  3.39\n"
     ]
    }
   ],
   "source": [
    "print(sc2)"
   ]
  },
  {
   "cell_type": "code",
   "execution_count": 47,
   "metadata": {
    "collapsed": false
   },
   "outputs": [
    {
     "name": "stdout",
     "output_type": "stream",
     "text": [
      "3.06\n"
     ]
    }
   ],
   "source": [
    "print(min(sc2.GPA))"
   ]
  },
  {
   "cell_type": "code",
   "execution_count": 48,
   "metadata": {
    "collapsed": false
   },
   "outputs": [
    {
     "name": "stdout",
     "output_type": "stream",
     "text": [
      "4.0\n"
     ]
    }
   ],
   "source": [
    "print(max(sc2.GPA))"
   ]
  },
  {
   "cell_type": "code",
   "execution_count": 49,
   "metadata": {
    "collapsed": true
   },
   "outputs": [],
   "source": [
    "import numpy as ny\n",
    "import statistics as st\n",
    "import scipy as sc"
   ]
  },
  {
   "cell_type": "code",
   "execution_count": 50,
   "metadata": {
    "collapsed": false
   },
   "outputs": [
    {
     "name": "stdout",
     "output_type": "stream",
     "text": [
      "3.5097058823529426\n"
     ]
    }
   ],
   "source": [
    "print(ny.mean(sc2.GPA))"
   ]
  },
  {
   "cell_type": "code",
   "execution_count": 51,
   "metadata": {
    "collapsed": false
   },
   "outputs": [
    {
     "name": "stdout",
     "output_type": "stream",
     "text": [
      "3.5\n"
     ]
    }
   ],
   "source": [
    "print(ny.median(sc2.GPA))"
   ]
  },
  {
   "cell_type": "code",
   "execution_count": 52,
   "metadata": {
    "collapsed": true
   },
   "outputs": [],
   "source": [
    "sc3=sc1.loc[1:36,\"Latest salary (per year)\":\"Latest salary (per year)\"]"
   ]
  },
  {
   "cell_type": "code",
   "execution_count": 57,
   "metadata": {
    "collapsed": false
   },
   "outputs": [
    {
     "name": "stdout",
     "output_type": "stream",
     "text": [
      "    Latest salary (per year)\n",
      "No                          \n",
      "1                      45000\n",
      "3                      65000\n",
      "4                      85000\n",
      "5                      10000\n",
      "6                      70000\n",
      "7                      27000\n",
      "8                      40000\n",
      "9                      75000\n",
      "10                     65000\n",
      "11                     62000\n",
      "12                     60000\n",
      "13                     60000\n",
      "14                     60000\n",
      "15                     70000\n",
      "16                     40000\n",
      "17                     60000\n",
      "18                     50000\n",
      "19                     50000\n",
      "20                     30000\n",
      "21                     40000\n",
      "22                     75000\n",
      "23                     50000\n",
      "24                     50000\n",
      "26                     65000\n",
      "27                     90000\n",
      "28                     50000\n",
      "29                     60000\n",
      "30                     43000\n",
      "31                     60000\n",
      "32                      5000\n",
      "33                     60000\n",
      "34                     65000\n",
      "35                     65000\n",
      "36                     60000\n"
     ]
    }
   ],
   "source": [
    "print(sc3)"
   ]
  },
  {
   "cell_type": "code",
   "execution_count": 59,
   "metadata": {
    "collapsed": false
   },
   "outputs": [],
   "source": [
    "sc3.columns =['salary']"
   ]
  },
  {
   "cell_type": "code",
   "execution_count": 60,
   "metadata": {
    "collapsed": false
   },
   "outputs": [
    {
     "ename": "AttributeError",
     "evalue": "module 'numpy' has no attribute 'mode'",
     "output_type": "error",
     "traceback": [
      "\u001b[0;31m---------------------------------------------------------------------------\u001b[0m",
      "\u001b[0;31mAttributeError\u001b[0m                            Traceback (most recent call last)",
      "\u001b[0;32m<ipython-input-60-535a54bba13b>\u001b[0m in \u001b[0;36m<module>\u001b[0;34m()\u001b[0m\n\u001b[0;32m----> 1\u001b[0;31m \u001b[0mprint\u001b[0m\u001b[1;33m(\u001b[0m\u001b[0mny\u001b[0m\u001b[1;33m.\u001b[0m\u001b[0mmode\u001b[0m\u001b[1;33m(\u001b[0m\u001b[0msc3\u001b[0m\u001b[1;33m.\u001b[0m\u001b[0msalary\u001b[0m\u001b[1;33m)\u001b[0m\u001b[1;33m)\u001b[0m\u001b[1;33m\u001b[0m\u001b[0m\n\u001b[0m",
      "\u001b[0;31mAttributeError\u001b[0m: module 'numpy' has no attribute 'mode'"
     ]
    }
   ],
   "source": [
    "print(ny.mode(sc3.salary))"
   ]
  },
  {
   "cell_type": "code",
   "execution_count": 61,
   "metadata": {
    "collapsed": true
   },
   "outputs": [],
   "source": [
    "from scipy import stats"
   ]
  },
  {
   "cell_type": "code",
   "execution_count": 62,
   "metadata": {
    "collapsed": false
   },
   "outputs": [
    {
     "name": "stdout",
     "output_type": "stream",
     "text": [
      "ModeResult(mode=array([60000], dtype=int64), count=array([8]))\n"
     ]
    }
   ],
   "source": [
    "print(stats.mode(sc3.salary))"
   ]
  },
  {
   "cell_type": "code",
   "execution_count": 82,
   "metadata": {
    "collapsed": false
   },
   "outputs": [],
   "source": [
    "sc4=sc1.loc[1:36,\"Expected Salary after graduation\":\"Expected Salary after graduation\"]"
   ]
  },
  {
   "cell_type": "code",
   "execution_count": 83,
   "metadata": {
    "collapsed": false
   },
   "outputs": [
    {
     "name": "stdout",
     "output_type": "stream",
     "text": [
      "    Expected Salary after graduation\n",
      "No                                  \n",
      "1                              90000\n",
      "3                             100000\n",
      "4                              90000\n",
      "5                             100000\n",
      "6                             100000\n",
      "7                              85000\n",
      "8                              90000\n",
      "9                             100000\n",
      "10                            110000\n",
      "11                            105000\n",
      "12                             85000\n",
      "13                            140000\n",
      "14                             90000\n",
      "15                             95000\n",
      "16                            120000\n",
      "17                            100000\n",
      "18                             88000\n",
      "19                            130000\n",
      "20                             80000\n",
      "21                             95000\n",
      "22                             80000\n",
      "23                            110000\n",
      "24                             90000\n",
      "26                            100000\n",
      "27                            120000\n",
      "28                            100000\n",
      "29                            100000\n",
      "30                            100000\n",
      "31                            110000\n",
      "32                            100000\n",
      "33                            100000\n",
      "34                             80000\n",
      "35                             80000\n",
      "36                             90000\n"
     ]
    }
   ],
   "source": [
    "print(sc4)"
   ]
  },
  {
   "cell_type": "code",
   "execution_count": 86,
   "metadata": {
    "collapsed": true
   },
   "outputs": [],
   "source": [
    "sc4.columns =['expec']"
   ]
  },
  {
   "cell_type": "code",
   "execution_count": 87,
   "metadata": {
    "collapsed": false
   },
   "outputs": [],
   "source": [
    "m=sc4.expec"
   ]
  },
  {
   "cell_type": "code",
   "execution_count": 90,
   "metadata": {
    "collapsed": false,
    "scrolled": true
   },
   "outputs": [],
   "source": [
    "q75, q25 = np.percentile(m, [75 ,25])\n",
    "iqr = q75 - q25"
   ]
  },
  {
   "cell_type": "code",
   "execution_count": 91,
   "metadata": {
    "collapsed": false
   },
   "outputs": [
    {
     "name": "stdout",
     "output_type": "stream",
     "text": [
      "10000.0\n"
     ]
    }
   ],
   "source": [
    "print(iqr)"
   ]
  },
  {
   "cell_type": "code",
   "execution_count": 95,
   "metadata": {
    "collapsed": false
   },
   "outputs": [],
   "source": [
    "sc5=sc1.loc[1:36,\"Number of contacts on Linkedin\":\"Number of contacts on Linkedin\"]\n"
   ]
  },
  {
   "cell_type": "code",
   "execution_count": 96,
   "metadata": {
    "collapsed": true
   },
   "outputs": [],
   "source": [
    "sc5.columns=['linkedincontacts']"
   ]
  },
  {
   "cell_type": "code",
   "execution_count": 130,
   "metadata": {
    "collapsed": false
   },
   "outputs": [
    {
     "data": {
      "text/plain": [
       "Counter({False: 20, True: 14})"
      ]
     },
     "execution_count": 130,
     "metadata": {},
     "output_type": "execute_result"
    }
   ],
   "source": [
    "Counter(sc5.linkedincontacts>=500)"
   ]
  },
  {
   "cell_type": "code",
   "execution_count": 104,
   "metadata": {
    "collapsed": false
   },
   "outputs": [],
   "source": [
    "sc6=sc1.loc[1:36,\"Coops/Internships (YN)\":\"Coops/Internships (YN)\"]"
   ]
  },
  {
   "cell_type": "code",
   "execution_count": 105,
   "metadata": {
    "collapsed": true
   },
   "outputs": [],
   "source": [
    "sc6.columns =['coop']"
   ]
  },
  {
   "cell_type": "code",
   "execution_count": 122,
   "metadata": {
    "collapsed": false
   },
   "outputs": [],
   "source": [
    "a=sc6.coop.count()"
   ]
  },
  {
   "cell_type": "code",
   "execution_count": 112,
   "metadata": {
    "collapsed": false
   },
   "outputs": [],
   "source": [
    "from collections import Counter"
   ]
  },
  {
   "cell_type": "code",
   "execution_count": 116,
   "metadata": {
    "collapsed": false
   },
   "outputs": [
    {
     "name": "stdout",
     "output_type": "stream",
     "text": [
      "Counter({'Y': 23, 'N': 10, 'y': 1})\n"
     ]
    }
   ],
   "source": [
    "b=Counter(sc6.coop)\n",
    "print(b)"
   ]
  },
  {
   "cell_type": "code",
   "execution_count": 118,
   "metadata": {
    "collapsed": false
   },
   "outputs": [],
   "source": [
    "k=b.most_common()"
   ]
  },
  {
   "cell_type": "code",
   "execution_count": 119,
   "metadata": {
    "collapsed": false
   },
   "outputs": [
    {
     "data": {
      "text/plain": [
       "[('Y', 23), ('N', 10), ('y', 1)]"
      ]
     },
     "execution_count": 119,
     "metadata": {},
     "output_type": "execute_result"
    }
   ],
   "source": [
    "k\n"
   ]
  },
  {
   "cell_type": "code",
   "execution_count": 126,
   "metadata": {
    "collapsed": false
   },
   "outputs": [],
   "source": [
    "percent =(k[0][1])*100/a"
   ]
  },
  {
   "cell_type": "code",
   "execution_count": 127,
   "metadata": {
    "collapsed": false
   },
   "outputs": [
    {
     "name": "stdout",
     "output_type": "stream",
     "text": [
      "67.6470588235\n"
     ]
    }
   ],
   "source": [
    "print(percent)"
   ]
  },
  {
   "cell_type": "code",
   "execution_count": null,
   "metadata": {
    "collapsed": true
   },
   "outputs": [],
   "source": []
  }
 ],
 "metadata": {
  "kernelspec": {
   "display_name": "Python [default]",
   "language": "python",
   "name": "python3"
  },
  "language_info": {
   "codemirror_mode": {
    "name": "ipython",
    "version": 3
   },
   "file_extension": ".py",
   "mimetype": "text/x-python",
   "name": "python",
   "nbconvert_exporter": "python",
   "pygments_lexer": "ipython3",
   "version": "3.5.2"
  }
 },
 "nbformat": 4,
 "nbformat_minor": 1
}
