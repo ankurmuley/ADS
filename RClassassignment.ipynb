{
 "cells": [
  {
   "cell_type": "code",
   "execution_count": 7,
   "metadata": {
    "collapsed": false
   },
   "outputs": [],
   "source": [
    "setwd(\"C:/Study Material/INFO -ADS/R/workdirectory\")\n"
   ]
  },
  {
   "cell_type": "code",
   "execution_count": 8,
   "metadata": {
    "collapsed": true
   },
   "outputs": [],
   "source": [
    "mydata=read.table(\"ClassData Sheet.csv\",sep=\",\",header=TRUE,row.names=1)"
   ]
  },
  {
   "cell_type": "code",
   "execution_count": 9,
   "metadata": {
    "collapsed": false,
    "scrolled": true
   },
   "outputs": [
    {
     "data": {
      "text/html": [
       "<table>\n",
       "<thead><tr><th></th><th scope=col>GPA</th><th scope=col>Years.of.work.experience</th><th scope=col>Latest.salary..per.year.</th><th scope=col>Highest.GPA</th><th scope=col>Lowest.GPA</th><th scope=col>Coops.Internships..YN.</th><th scope=col>Number.of.contacts.on.Linkedin</th><th scope=col>Expected.Salary.after.graduation</th></tr></thead>\n",
       "<tbody>\n",
       "\t<tr><th scope=row>1</th><td>3.50  </td><td>2.5   </td><td>45000 </td><td>3.50  </td><td>3.50  </td><td>N     </td><td>250   </td><td> 90000</td></tr>\n",
       "\t<tr><th scope=row>3</th><td>3.80  </td><td>1.0   </td><td>65000 </td><td>3.60  </td><td>3.00  </td><td>Y     </td><td>400   </td><td>100000</td></tr>\n",
       "\t<tr><th scope=row>4</th><td>3.80  </td><td>2.0   </td><td>85000 </td><td>4.00  </td><td>3.60  </td><td>Y     </td><td>500   </td><td> 90000</td></tr>\n",
       "\t<tr><th scope=row>5</th><td>3.41  </td><td>1.5   </td><td>10000 </td><td>3.41  </td><td>3.33  </td><td>N     </td><td>365   </td><td>100000</td></tr>\n",
       "\t<tr><th scope=row>6</th><td>3.33  </td><td>5.0   </td><td>70000 </td><td>3.67  </td><td>3.00  </td><td>Y     </td><td>400   </td><td>100000</td></tr>\n",
       "\t<tr><th scope=row>7</th><td>3.52  </td><td>2.5   </td><td>27000 </td><td>3.58  </td><td>3.52  </td><td>N     </td><td>230   </td><td> 85000</td></tr>\n",
       "\t<tr><th scope=row>8</th><td>3.50  </td><td>2.0   </td><td>40000 </td><td>3.70  </td><td>3.30  </td><td>N     </td><td>250   </td><td> 90000</td></tr>\n",
       "\t<tr><th scope=row>9</th><td>3.50  </td><td>5.0   </td><td>75000 </td><td>3.53  </td><td>3.30  </td><td>Y     </td><td>260   </td><td>100000</td></tr>\n",
       "\t<tr><th scope=row>10</th><td>3.60  </td><td>2.5   </td><td>65000 </td><td>3.90  </td><td>3.10  </td><td>Y     </td><td>250   </td><td>110000</td></tr>\n",
       "\t<tr><th scope=row>11</th><td>3.20  </td><td>4.0   </td><td>62000 </td><td>3.80  </td><td>3.00  </td><td>N     </td><td>525   </td><td>105000</td></tr>\n",
       "\t<tr><th scope=row>12</th><td>3.50  </td><td>2.0   </td><td>60000 </td><td>3.50  </td><td>3.50  </td><td>N     </td><td>400   </td><td> 85000</td></tr>\n",
       "\t<tr><th scope=row>13</th><td>3.67  </td><td>1.8   </td><td>60000 </td><td>4.00  </td><td>3.00  </td><td>N     </td><td>920   </td><td>140000</td></tr>\n",
       "\t<tr><th scope=row>14</th><td>3.50  </td><td>2.0   </td><td>60000 </td><td>3.70  </td><td>3.30  </td><td>y     </td><td>300   </td><td> 90000</td></tr>\n",
       "\t<tr><th scope=row>15</th><td>3.47  </td><td>2.5   </td><td>70000 </td><td>3.64  </td><td>3.37  </td><td>Y     </td><td>310   </td><td> 95000</td></tr>\n",
       "\t<tr><th scope=row>16</th><td>3.06  </td><td>1.3   </td><td>40000 </td><td>3.64  </td><td>2.67  </td><td>Y     </td><td>550   </td><td>120000</td></tr>\n",
       "\t<tr><th scope=row>17</th><td>3.27  </td><td>2.0   </td><td>60000 </td><td>4.00  </td><td>3.00  </td><td>Y     </td><td>350   </td><td>100000</td></tr>\n",
       "\t<tr><th scope=row>18</th><td>3.53  </td><td>4.0   </td><td>50000 </td><td>4.00  </td><td>3.30  </td><td>N     </td><td>600   </td><td> 88000</td></tr>\n",
       "\t<tr><th scope=row>19</th><td>4.00  </td><td>4.0   </td><td>50000 </td><td>4.00  </td><td>4.00  </td><td>Y     </td><td>500   </td><td>130000</td></tr>\n",
       "\t<tr><th scope=row>20</th><td>3.40  </td><td>1.0   </td><td>30000 </td><td>3.60  </td><td>3.10  </td><td>N     </td><td>500   </td><td> 80000</td></tr>\n",
       "\t<tr><th scope=row>21</th><td>3.54  </td><td>1.0   </td><td>40000 </td><td>4.00  </td><td>3.42  </td><td>Y     </td><td>650   </td><td> 95000</td></tr>\n",
       "\t<tr><th scope=row>22</th><td>3.50  </td><td>2.0   </td><td>75000 </td><td>4.00  </td><td>3.00  </td><td>Y     </td><td>515   </td><td> 80000</td></tr>\n",
       "\t<tr><th scope=row>23</th><td>3.50  </td><td>4.0   </td><td>50000 </td><td>3.80  </td><td>3.20  </td><td>Y     </td><td>350   </td><td>110000</td></tr>\n",
       "\t<tr><th scope=row>24</th><td>3.40  </td><td>3.0   </td><td>50000 </td><td>3.80  </td><td>3.20  </td><td>Y     </td><td>301   </td><td> 90000</td></tr>\n",
       "\t<tr><th scope=row>26</th><td>3.30  </td><td>4.0   </td><td>65000 </td><td>4.00  </td><td>3.65  </td><td>Y     </td><td>700   </td><td>100000</td></tr>\n",
       "\t<tr><th scope=row>27</th><td>3.90  </td><td>6.0   </td><td>90000 </td><td>4.00  </td><td>3.80  </td><td>Y     </td><td>809   </td><td>120000</td></tr>\n",
       "\t<tr><th scope=row>28</th><td>3.17  </td><td>1.0   </td><td>50000 </td><td>3.30  </td><td>3.00  </td><td>N     </td><td>258   </td><td>100000</td></tr>\n",
       "\t<tr><th scope=row>29</th><td>3.48  </td><td>3.5   </td><td>60000 </td><td>4.00  </td><td>3.33  </td><td>Y     </td><td>350   </td><td>100000</td></tr>\n",
       "\t<tr><th scope=row>30</th><td>3.93  </td><td>4.0   </td><td>43000 </td><td>4.00  </td><td>3.28  </td><td>Y     </td><td>900   </td><td>100000</td></tr>\n",
       "\t<tr><th scope=row>31</th><td>3.43  </td><td>4.0   </td><td>60000 </td><td>3.50  </td><td>3.30  </td><td>Y     </td><td>220   </td><td>110000</td></tr>\n",
       "\t<tr><th scope=row>32</th><td>3.33  </td><td>5.0   </td><td> 5000 </td><td>3.66  </td><td>3.00  </td><td>Y     </td><td>183   </td><td>100000</td></tr>\n",
       "\t<tr><th scope=row>33</th><td>3.60  </td><td>1.5   </td><td>60000 </td><td>3.70  </td><td>3.40  </td><td>Y     </td><td>340   </td><td>100000</td></tr>\n",
       "\t<tr><th scope=row>34</th><td>3.80  </td><td>3.0   </td><td>65000 </td><td>3.80  </td><td>3.50  </td><td>Y     </td><td>800   </td><td> 80000</td></tr>\n",
       "\t<tr><th scope=row>35</th><td>3.50  </td><td>3.0   </td><td>65000 </td><td>4.00  </td><td>3.60  </td><td>Y     </td><td>400   </td><td> 80000</td></tr>\n",
       "\t<tr><th scope=row>36</th><td>3.39  </td><td>2.0   </td><td>60000 </td><td>3.80  </td><td>3.20  </td><td>Y     </td><td>500   </td><td> 90000</td></tr>\n",
       "</tbody>\n",
       "</table>\n"
      ],
      "text/latex": [
       "\\begin{tabular}{r|llllllll}\n",
       "  & GPA & Years.of.work.experience & Latest.salary..per.year. & Highest.GPA & Lowest.GPA & Coops.Internships..YN. & Number.of.contacts.on.Linkedin & Expected.Salary.after.graduation\\\\\n",
       "\\hline\n",
       "\t1 & 3.50   & 2.5    & 45000  & 3.50   & 3.50   & N      & 250    &  90000\\\\\n",
       "\t3 & 3.80   & 1.0    & 65000  & 3.60   & 3.00   & Y      & 400    & 100000\\\\\n",
       "\t4 & 3.80   & 2.0    & 85000  & 4.00   & 3.60   & Y      & 500    &  90000\\\\\n",
       "\t5 & 3.41   & 1.5    & 10000  & 3.41   & 3.33   & N      & 365    & 100000\\\\\n",
       "\t6 & 3.33   & 5.0    & 70000  & 3.67   & 3.00   & Y      & 400    & 100000\\\\\n",
       "\t7 & 3.52   & 2.5    & 27000  & 3.58   & 3.52   & N      & 230    &  85000\\\\\n",
       "\t8 & 3.50   & 2.0    & 40000  & 3.70   & 3.30   & N      & 250    &  90000\\\\\n",
       "\t9 & 3.50   & 5.0    & 75000  & 3.53   & 3.30   & Y      & 260    & 100000\\\\\n",
       "\t10 & 3.60   & 2.5    & 65000  & 3.90   & 3.10   & Y      & 250    & 110000\\\\\n",
       "\t11 & 3.20   & 4.0    & 62000  & 3.80   & 3.00   & N      & 525    & 105000\\\\\n",
       "\t12 & 3.50   & 2.0    & 60000  & 3.50   & 3.50   & N      & 400    &  85000\\\\\n",
       "\t13 & 3.67   & 1.8    & 60000  & 4.00   & 3.00   & N      & 920    & 140000\\\\\n",
       "\t14 & 3.50   & 2.0    & 60000  & 3.70   & 3.30   & y      & 300    &  90000\\\\\n",
       "\t15 & 3.47   & 2.5    & 70000  & 3.64   & 3.37   & Y      & 310    &  95000\\\\\n",
       "\t16 & 3.06   & 1.3    & 40000  & 3.64   & 2.67   & Y      & 550    & 120000\\\\\n",
       "\t17 & 3.27   & 2.0    & 60000  & 4.00   & 3.00   & Y      & 350    & 100000\\\\\n",
       "\t18 & 3.53   & 4.0    & 50000  & 4.00   & 3.30   & N      & 600    &  88000\\\\\n",
       "\t19 & 4.00   & 4.0    & 50000  & 4.00   & 4.00   & Y      & 500    & 130000\\\\\n",
       "\t20 & 3.40   & 1.0    & 30000  & 3.60   & 3.10   & N      & 500    &  80000\\\\\n",
       "\t21 & 3.54   & 1.0    & 40000  & 4.00   & 3.42   & Y      & 650    &  95000\\\\\n",
       "\t22 & 3.50   & 2.0    & 75000  & 4.00   & 3.00   & Y      & 515    &  80000\\\\\n",
       "\t23 & 3.50   & 4.0    & 50000  & 3.80   & 3.20   & Y      & 350    & 110000\\\\\n",
       "\t24 & 3.40   & 3.0    & 50000  & 3.80   & 3.20   & Y      & 301    &  90000\\\\\n",
       "\t26 & 3.30   & 4.0    & 65000  & 4.00   & 3.65   & Y      & 700    & 100000\\\\\n",
       "\t27 & 3.90   & 6.0    & 90000  & 4.00   & 3.80   & Y      & 809    & 120000\\\\\n",
       "\t28 & 3.17   & 1.0    & 50000  & 3.30   & 3.00   & N      & 258    & 100000\\\\\n",
       "\t29 & 3.48   & 3.5    & 60000  & 4.00   & 3.33   & Y      & 350    & 100000\\\\\n",
       "\t30 & 3.93   & 4.0    & 43000  & 4.00   & 3.28   & Y      & 900    & 100000\\\\\n",
       "\t31 & 3.43   & 4.0    & 60000  & 3.50   & 3.30   & Y      & 220    & 110000\\\\\n",
       "\t32 & 3.33   & 5.0    &  5000  & 3.66   & 3.00   & Y      & 183    & 100000\\\\\n",
       "\t33 & 3.60   & 1.5    & 60000  & 3.70   & 3.40   & Y      & 340    & 100000\\\\\n",
       "\t34 & 3.80   & 3.0    & 65000  & 3.80   & 3.50   & Y      & 800    &  80000\\\\\n",
       "\t35 & 3.50   & 3.0    & 65000  & 4.00   & 3.60   & Y      & 400    &  80000\\\\\n",
       "\t36 & 3.39   & 2.0    & 60000  & 3.80   & 3.20   & Y      & 500    &  90000\\\\\n",
       "\\end{tabular}\n"
      ],
      "text/markdown": [
       "\n",
       "| <!--/--> | GPA | Years.of.work.experience | Latest.salary..per.year. | Highest.GPA | Lowest.GPA | Coops.Internships..YN. | Number.of.contacts.on.Linkedin | Expected.Salary.after.graduation | \n",
       "|---|---|---|---|---|---|---|---|---|---|---|---|---|---|---|---|---|---|---|---|---|---|---|---|---|---|---|---|---|---|---|---|---|---|\n",
       "| 1 | 3.50   | 2.5    | 45000  | 3.50   | 3.50   | N      | 250    |  90000 | \n",
       "| 3 | 3.80   | 1.0    | 65000  | 3.60   | 3.00   | Y      | 400    | 100000 | \n",
       "| 4 | 3.80   | 2.0    | 85000  | 4.00   | 3.60   | Y      | 500    |  90000 | \n",
       "| 5 | 3.41   | 1.5    | 10000  | 3.41   | 3.33   | N      | 365    | 100000 | \n",
       "| 6 | 3.33   | 5.0    | 70000  | 3.67   | 3.00   | Y      | 400    | 100000 | \n",
       "| 7 | 3.52   | 2.5    | 27000  | 3.58   | 3.52   | N      | 230    |  85000 | \n",
       "| 8 | 3.50   | 2.0    | 40000  | 3.70   | 3.30   | N      | 250    |  90000 | \n",
       "| 9 | 3.50   | 5.0    | 75000  | 3.53   | 3.30   | Y      | 260    | 100000 | \n",
       "| 10 | 3.60   | 2.5    | 65000  | 3.90   | 3.10   | Y      | 250    | 110000 | \n",
       "| 11 | 3.20   | 4.0    | 62000  | 3.80   | 3.00   | N      | 525    | 105000 | \n",
       "| 12 | 3.50   | 2.0    | 60000  | 3.50   | 3.50   | N      | 400    |  85000 | \n",
       "| 13 | 3.67   | 1.8    | 60000  | 4.00   | 3.00   | N      | 920    | 140000 | \n",
       "| 14 | 3.50   | 2.0    | 60000  | 3.70   | 3.30   | y      | 300    |  90000 | \n",
       "| 15 | 3.47   | 2.5    | 70000  | 3.64   | 3.37   | Y      | 310    |  95000 | \n",
       "| 16 | 3.06   | 1.3    | 40000  | 3.64   | 2.67   | Y      | 550    | 120000 | \n",
       "| 17 | 3.27   | 2.0    | 60000  | 4.00   | 3.00   | Y      | 350    | 100000 | \n",
       "| 18 | 3.53   | 4.0    | 50000  | 4.00   | 3.30   | N      | 600    |  88000 | \n",
       "| 19 | 4.00   | 4.0    | 50000  | 4.00   | 4.00   | Y      | 500    | 130000 | \n",
       "| 20 | 3.40   | 1.0    | 30000  | 3.60   | 3.10   | N      | 500    |  80000 | \n",
       "| 21 | 3.54   | 1.0    | 40000  | 4.00   | 3.42   | Y      | 650    |  95000 | \n",
       "| 22 | 3.50   | 2.0    | 75000  | 4.00   | 3.00   | Y      | 515    |  80000 | \n",
       "| 23 | 3.50   | 4.0    | 50000  | 3.80   | 3.20   | Y      | 350    | 110000 | \n",
       "| 24 | 3.40   | 3.0    | 50000  | 3.80   | 3.20   | Y      | 301    |  90000 | \n",
       "| 26 | 3.30   | 4.0    | 65000  | 4.00   | 3.65   | Y      | 700    | 100000 | \n",
       "| 27 | 3.90   | 6.0    | 90000  | 4.00   | 3.80   | Y      | 809    | 120000 | \n",
       "| 28 | 3.17   | 1.0    | 50000  | 3.30   | 3.00   | N      | 258    | 100000 | \n",
       "| 29 | 3.48   | 3.5    | 60000  | 4.00   | 3.33   | Y      | 350    | 100000 | \n",
       "| 30 | 3.93   | 4.0    | 43000  | 4.00   | 3.28   | Y      | 900    | 100000 | \n",
       "| 31 | 3.43   | 4.0    | 60000  | 3.50   | 3.30   | Y      | 220    | 110000 | \n",
       "| 32 | 3.33   | 5.0    |  5000  | 3.66   | 3.00   | Y      | 183    | 100000 | \n",
       "| 33 | 3.60   | 1.5    | 60000  | 3.70   | 3.40   | Y      | 340    | 100000 | \n",
       "| 34 | 3.80   | 3.0    | 65000  | 3.80   | 3.50   | Y      | 800    |  80000 | \n",
       "| 35 | 3.50   | 3.0    | 65000  | 4.00   | 3.60   | Y      | 400    |  80000 | \n",
       "| 36 | 3.39   | 2.0    | 60000  | 3.80   | 3.20   | Y      | 500    |  90000 | \n",
       "\n",
       "\n"
      ],
      "text/plain": [
       "   GPA  Years.of.work.experience Latest.salary..per.year. Highest.GPA\n",
       "1  3.50 2.5                      45000                    3.50       \n",
       "3  3.80 1.0                      65000                    3.60       \n",
       "4  3.80 2.0                      85000                    4.00       \n",
       "5  3.41 1.5                      10000                    3.41       \n",
       "6  3.33 5.0                      70000                    3.67       \n",
       "7  3.52 2.5                      27000                    3.58       \n",
       "8  3.50 2.0                      40000                    3.70       \n",
       "9  3.50 5.0                      75000                    3.53       \n",
       "10 3.60 2.5                      65000                    3.90       \n",
       "11 3.20 4.0                      62000                    3.80       \n",
       "12 3.50 2.0                      60000                    3.50       \n",
       "13 3.67 1.8                      60000                    4.00       \n",
       "14 3.50 2.0                      60000                    3.70       \n",
       "15 3.47 2.5                      70000                    3.64       \n",
       "16 3.06 1.3                      40000                    3.64       \n",
       "17 3.27 2.0                      60000                    4.00       \n",
       "18 3.53 4.0                      50000                    4.00       \n",
       "19 4.00 4.0                      50000                    4.00       \n",
       "20 3.40 1.0                      30000                    3.60       \n",
       "21 3.54 1.0                      40000                    4.00       \n",
       "22 3.50 2.0                      75000                    4.00       \n",
       "23 3.50 4.0                      50000                    3.80       \n",
       "24 3.40 3.0                      50000                    3.80       \n",
       "26 3.30 4.0                      65000                    4.00       \n",
       "27 3.90 6.0                      90000                    4.00       \n",
       "28 3.17 1.0                      50000                    3.30       \n",
       "29 3.48 3.5                      60000                    4.00       \n",
       "30 3.93 4.0                      43000                    4.00       \n",
       "31 3.43 4.0                      60000                    3.50       \n",
       "32 3.33 5.0                       5000                    3.66       \n",
       "33 3.60 1.5                      60000                    3.70       \n",
       "34 3.80 3.0                      65000                    3.80       \n",
       "35 3.50 3.0                      65000                    4.00       \n",
       "36 3.39 2.0                      60000                    3.80       \n",
       "   Lowest.GPA Coops.Internships..YN. Number.of.contacts.on.Linkedin\n",
       "1  3.50       N                      250                           \n",
       "3  3.00       Y                      400                           \n",
       "4  3.60       Y                      500                           \n",
       "5  3.33       N                      365                           \n",
       "6  3.00       Y                      400                           \n",
       "7  3.52       N                      230                           \n",
       "8  3.30       N                      250                           \n",
       "9  3.30       Y                      260                           \n",
       "10 3.10       Y                      250                           \n",
       "11 3.00       N                      525                           \n",
       "12 3.50       N                      400                           \n",
       "13 3.00       N                      920                           \n",
       "14 3.30       y                      300                           \n",
       "15 3.37       Y                      310                           \n",
       "16 2.67       Y                      550                           \n",
       "17 3.00       Y                      350                           \n",
       "18 3.30       N                      600                           \n",
       "19 4.00       Y                      500                           \n",
       "20 3.10       N                      500                           \n",
       "21 3.42       Y                      650                           \n",
       "22 3.00       Y                      515                           \n",
       "23 3.20       Y                      350                           \n",
       "24 3.20       Y                      301                           \n",
       "26 3.65       Y                      700                           \n",
       "27 3.80       Y                      809                           \n",
       "28 3.00       N                      258                           \n",
       "29 3.33       Y                      350                           \n",
       "30 3.28       Y                      900                           \n",
       "31 3.30       Y                      220                           \n",
       "32 3.00       Y                      183                           \n",
       "33 3.40       Y                      340                           \n",
       "34 3.50       Y                      800                           \n",
       "35 3.60       Y                      400                           \n",
       "36 3.20       Y                      500                           \n",
       "   Expected.Salary.after.graduation\n",
       "1   90000                          \n",
       "3  100000                          \n",
       "4   90000                          \n",
       "5  100000                          \n",
       "6  100000                          \n",
       "7   85000                          \n",
       "8   90000                          \n",
       "9  100000                          \n",
       "10 110000                          \n",
       "11 105000                          \n",
       "12  85000                          \n",
       "13 140000                          \n",
       "14  90000                          \n",
       "15  95000                          \n",
       "16 120000                          \n",
       "17 100000                          \n",
       "18  88000                          \n",
       "19 130000                          \n",
       "20  80000                          \n",
       "21  95000                          \n",
       "22  80000                          \n",
       "23 110000                          \n",
       "24  90000                          \n",
       "26 100000                          \n",
       "27 120000                          \n",
       "28 100000                          \n",
       "29 100000                          \n",
       "30 100000                          \n",
       "31 110000                          \n",
       "32 100000                          \n",
       "33 100000                          \n",
       "34  80000                          \n",
       "35  80000                          \n",
       "36  90000                          "
      ]
     },
     "metadata": {},
     "output_type": "display_data"
    }
   ],
   "source": [
    "mydata\n"
   ]
  },
  {
   "cell_type": "code",
   "execution_count": 10,
   "metadata": {
    "collapsed": false
   },
   "outputs": [
    {
     "name": "stdout",
     "output_type": "stream",
     "text": [
      "[1] \"Min of GPA:\"\n",
      "[1] \"Max of GPA:\"\n",
      "[1] \"Average or mean of GPA:\"\n",
      "[1] \"Median of GPA:\"\n"
     ]
    }
   ],
   "source": [
    "min_gpa=min(mydata$GPA)\n",
    "max_gpa=max(mydata$GPA)\n",
    "mean_gpa=mean(mydata$GPA)\n",
    "med_gpa=median(mydata$GPA)\n",
    "print(\"Min of GPA:\",min_gpa)\n",
    "print(\"Max of GPA:\",max_gpa)\n",
    "print(\"Average or mean of GPA:\",mean_gpa)\n",
    "print(\"Median of GPA:\",med_gpa)\n"
   ]
  },
  {
   "cell_type": "code",
   "execution_count": 11,
   "metadata": {
    "collapsed": false
   },
   "outputs": [
    {
     "data": {
      "text/html": [
       "3.06"
      ],
      "text/latex": [
       "3.06"
      ],
      "text/markdown": [
       "3.06"
      ],
      "text/plain": [
       "[1] 3.06"
      ]
     },
     "metadata": {},
     "output_type": "display_data"
    }
   ],
   "source": [
    "min_gpa\n",
    "\n"
   ]
  },
  {
   "cell_type": "code",
   "execution_count": 12,
   "metadata": {
    "collapsed": false
   },
   "outputs": [
    {
     "data": {
      "text/html": [
       "4"
      ],
      "text/latex": [
       "4"
      ],
      "text/markdown": [
       "4"
      ],
      "text/plain": [
       "[1] 4"
      ]
     },
     "metadata": {},
     "output_type": "display_data"
    }
   ],
   "source": [
    "max_gpa\n"
   ]
  },
  {
   "cell_type": "code",
   "execution_count": 13,
   "metadata": {
    "collapsed": false
   },
   "outputs": [
    {
     "data": {
      "text/html": [
       "3.50970588235294"
      ],
      "text/latex": [
       "3.50970588235294"
      ],
      "text/markdown": [
       "3.50970588235294"
      ],
      "text/plain": [
       "[1] 3.509706"
      ]
     },
     "metadata": {},
     "output_type": "display_data"
    }
   ],
   "source": [
    "mean_gpa"
   ]
  },
  {
   "cell_type": "code",
   "execution_count": 14,
   "metadata": {
    "collapsed": false
   },
   "outputs": [
    {
     "data": {
      "text/html": [
       "3.5"
      ],
      "text/latex": [
       "3.5"
      ],
      "text/markdown": [
       "3.5"
      ],
      "text/plain": [
       "[1] 3.5"
      ]
     },
     "metadata": {},
     "output_type": "display_data"
    }
   ],
   "source": [
    "med_gpa"
   ]
  },
  {
   "cell_type": "code",
   "execution_count": 22,
   "metadata": {
    "collapsed": false
   },
   "outputs": [
    {
     "name": "stdout",
     "output_type": "stream",
     "text": [
      "[1] 60000\n"
     ]
    }
   ],
   "source": [
    "getmode <- function(x){\n",
    "uniq <- unique(x)\n",
    "uniq[which.max(tabulate(match(x, uniq)))]\n",
    "}\n",
    "x=mydata$Latest.salary..per.year.\n",
    "result <- getmode(x)\n",
    "print(result)\n",
    "  "
   ]
  },
  {
   "cell_type": "code",
   "execution_count": 23,
   "metadata": {
    "collapsed": true
   },
   "outputs": [],
   "source": [
    "coop<-mydata$Coops.Internships..YN."
   ]
  },
  {
   "cell_type": "code",
   "execution_count": 43,
   "metadata": {
    "collapsed": false
   },
   "outputs": [
    {
     "name": "stdout",
     "output_type": "stream",
     "text": [
      " Y \n",
      "23 \n",
      " N \n",
      "10 \n"
     ]
    },
    {
     "data": {
      "text/html": [
       "<strong>Y:</strong> 69.6969696969697"
      ],
      "text/latex": [
       "\\textbf{Y:} 69.6969696969697"
      ],
      "text/markdown": [
       "**Y:** 69.6969696969697"
      ],
      "text/plain": [
       "       Y \n",
       "69.69697 "
      ]
     },
     "metadata": {},
     "output_type": "display_data"
    }
   ],
   "source": [
    "m<-table(coop)[\"Y\"]\n",
    "n<-table(coop)[\"N\"]\n",
    "print(m)\n",
    "print(n)\n",
    "c<-(m)*100/(m+n)\n",
    "c"
   ]
  },
  {
   "cell_type": "code",
   "execution_count": 54,
   "metadata": {
    "collapsed": false
   },
   "outputs": [
    {
     "data": {
      "text/plain": [
       "d\n",
       "FALSE  TRUE \n",
       "   20    14 "
      ]
     },
     "metadata": {},
     "output_type": "display_data"
    }
   ],
   "source": [
    "con<-mydata$Number.of.contacts.on.Linkedin\n",
    "d<-con>=500\n",
    "table(d)"
   ]
  },
  {
   "cell_type": "code",
   "execution_count": 55,
   "metadata": {
    "collapsed": false
   },
   "outputs": [
    {
     "data": {
      "text/html": [
       "10000"
      ],
      "text/latex": [
       "10000"
      ],
      "text/markdown": [
       "10000"
      ],
      "text/plain": [
       "[1] 10000"
      ]
     },
     "metadata": {},
     "output_type": "display_data"
    }
   ],
   "source": [
    "salexp <- mydata$Expected.Salary.after.graduation\n",
    "IQR(salexp)"
   ]
  },
  {
   "cell_type": "code",
   "execution_count": null,
   "metadata": {
    "collapsed": true
   },
   "outputs": [],
   "source": []
  }
 ],
 "metadata": {
  "anaconda-cloud": {},
  "kernelspec": {
   "display_name": "R",
   "language": "R",
   "name": "ir"
  },
  "language_info": {
   "codemirror_mode": "r",
   "file_extension": ".r",
   "mimetype": "text/x-r-source",
   "name": "R",
   "pygments_lexer": "r",
   "version": "3.3.2"
  }
 },
 "nbformat": 4,
 "nbformat_minor": 1
}
